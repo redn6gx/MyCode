{
 "cells": [
  {
   "cell_type": "markdown",
   "metadata": {},
   "source": [
    "# Intro to Data Science: Final Project"
   ]
  },
  {
   "cell_type": "markdown",
   "metadata": {},
   "source": [
    "## Unknown Data Set Exploration"
   ]
  },
  {
   "cell_type": "markdown",
   "metadata": {},
   "source": [
    "Bobby Davis"
   ]
  },
  {
   "cell_type": "markdown",
   "metadata": {},
   "source": [
    "## Introduction"
   ]
  },
  {
   "cell_type": "markdown",
   "metadata": {},
   "source": [
    "In this project I will be exploring a dataset in which I do not know what any of the columns represent. I will have to clean and process the data to the best of my ability to make the best classification predictions on a categorical variable."
   ]
  },
  {
   "cell_type": "markdown",
   "metadata": {},
   "source": [
    "We begin by importing packages we will need."
   ]
  },
  {
   "cell_type": "code",
   "execution_count": 1,
   "metadata": {},
   "outputs": [],
   "source": [
    "import numpy as np\n",
    "import pandas as pd\n",
    "import matplotlib.pyplot as plt\n",
    "import seaborn as sns\n",
    "from sklearn.model_selection import train_test_split, learning_curve, GridSearchCV, cross_val_score\n",
    "from sklearn.preprocessing import StandardScaler\n",
    "from scipy.spatial import distance_matrix\n",
    "# from sklearn.metrics import r2_score\n",
    "from sklearn.metrics import confusion_matrix\n",
    "from sklearn.tree import DecisionTreeClassifier\n",
    "from sklearn.tree import export_graphviz\n",
    "import graphviz\n",
    "from sklearn.metrics import recall_score, f1_score, precision_score\n",
    "from scipy.stats import zscore\n",
    "from sklearn.linear_model import LogisticRegression\n",
    "from sklearn.metrics import make_scorer, accuracy_score\n",
    "from scipy.spatial import distance_matrix\n",
    "from scipy.stats import mode\n",
    "from sklearn.neighbors import KNeighborsClassifier\n",
    "from sklearn.preprocessing import StandardScaler\n",
    "from warnings import simplefilter\n",
    "simplefilter(action='ignore', category=FutureWarning)\n",
    "import warnings\n",
    "warnings.filterwarnings('ignore')\n",
    "\n",
    "sns.set()"
   ]
  },
  {
   "cell_type": "markdown",
   "metadata": {},
   "source": [
    "## Read the data"
   ]
  },
  {
   "cell_type": "code",
   "execution_count": 2,
   "metadata": {},
   "outputs": [],
   "source": [
    "df = pd.read_csv(r\"C:\\Users\\Bobby\\Desktop\\383FinalProject\\Bobby.csv\")"
   ]
  },
  {
   "cell_type": "markdown",
   "metadata": {},
   "source": [
    "## Initial data exploration"
   ]
  },
  {
   "cell_type": "markdown",
   "metadata": {},
   "source": [
    "To get a general idea of the data we will be working with it is always good to check the number of columns and rows in the data set. We also want to know what type of values we will be working with, especially since the column names are all obscured."
   ]
  },
  {
   "cell_type": "code",
   "execution_count": 3,
   "metadata": {},
   "outputs": [
    {
     "name": "stdout",
     "output_type": "stream",
     "text": [
      "<class 'pandas.core.frame.DataFrame'>\n",
      "RangeIndex: 6193 entries, 0 to 6192\n",
      "Data columns (total 12 columns):\n",
      "x0     6193 non-null object\n",
      "x1     5850 non-null object\n",
      "x2     5748 non-null float64\n",
      "x3     6193 non-null object\n",
      "x4     6193 non-null object\n",
      "x5     6193 non-null object\n",
      "x6     6193 non-null object\n",
      "x7     5964 non-null object\n",
      "x8     6193 non-null object\n",
      "x9     6193 non-null float64\n",
      "x10    6193 non-null float64\n",
      "y      6193 non-null object\n",
      "dtypes: float64(3), object(9)\n",
      "memory usage: 580.7+ KB\n"
     ]
    },
    {
     "data": {
      "text/html": [
       "<div>\n",
       "<style scoped>\n",
       "    .dataframe tbody tr th:only-of-type {\n",
       "        vertical-align: middle;\n",
       "    }\n",
       "\n",
       "    .dataframe tbody tr th {\n",
       "        vertical-align: top;\n",
       "    }\n",
       "\n",
       "    .dataframe thead th {\n",
       "        text-align: right;\n",
       "    }\n",
       "</style>\n",
       "<table border=\"1\" class=\"dataframe\">\n",
       "  <thead>\n",
       "    <tr style=\"text-align: right;\">\n",
       "      <th></th>\n",
       "      <th>x2</th>\n",
       "      <th>x9</th>\n",
       "      <th>x10</th>\n",
       "    </tr>\n",
       "  </thead>\n",
       "  <tbody>\n",
       "    <tr>\n",
       "      <td>count</td>\n",
       "      <td>5748.000000</td>\n",
       "      <td>6193.000000</td>\n",
       "      <td>6193.000000</td>\n",
       "    </tr>\n",
       "    <tr>\n",
       "      <td>mean</td>\n",
       "      <td>32.175191</td>\n",
       "      <td>64.863862</td>\n",
       "      <td>2280.280793</td>\n",
       "    </tr>\n",
       "    <tr>\n",
       "      <td>std</td>\n",
       "      <td>24.523418</td>\n",
       "      <td>30.120177</td>\n",
       "      <td>2264.747992</td>\n",
       "    </tr>\n",
       "    <tr>\n",
       "      <td>min</td>\n",
       "      <td>0.000000</td>\n",
       "      <td>18.400000</td>\n",
       "      <td>0.000000</td>\n",
       "    </tr>\n",
       "    <tr>\n",
       "      <td>25%</td>\n",
       "      <td>9.000000</td>\n",
       "      <td>35.450000</td>\n",
       "      <td>391.700000</td>\n",
       "    </tr>\n",
       "    <tr>\n",
       "      <td>50%</td>\n",
       "      <td>29.000000</td>\n",
       "      <td>70.400000</td>\n",
       "      <td>1401.400000</td>\n",
       "    </tr>\n",
       "    <tr>\n",
       "      <td>75%</td>\n",
       "      <td>55.000000</td>\n",
       "      <td>89.950000</td>\n",
       "      <td>3795.450000</td>\n",
       "    </tr>\n",
       "    <tr>\n",
       "      <td>max</td>\n",
       "      <td>72.000000</td>\n",
       "      <td>118.750000</td>\n",
       "      <td>8684.800000</td>\n",
       "    </tr>\n",
       "  </tbody>\n",
       "</table>\n",
       "</div>"
      ],
      "text/plain": [
       "                x2           x9          x10\n",
       "count  5748.000000  6193.000000  6193.000000\n",
       "mean     32.175191    64.863862  2280.280793\n",
       "std      24.523418    30.120177  2264.747992\n",
       "min       0.000000    18.400000     0.000000\n",
       "25%       9.000000    35.450000   391.700000\n",
       "50%      29.000000    70.400000  1401.400000\n",
       "75%      55.000000    89.950000  3795.450000\n",
       "max      72.000000   118.750000  8684.800000"
      ]
     },
     "execution_count": 3,
     "metadata": {},
     "output_type": "execute_result"
    }
   ],
   "source": [
    "df.info()\n",
    "df.describe()"
   ]
  },
  {
   "cell_type": "markdown",
   "metadata": {},
   "source": [
    "The dataset has a total of 6193 rows and 12 columns starting out.\n",
    "All of the columns except for x2, x9, and x10 appear to be categorical.\n",
    "Let us now look at the distribution of variables in the target column y."
   ]
  },
  {
   "cell_type": "code",
   "execution_count": 4,
   "metadata": {},
   "outputs": [
    {
     "data": {
      "text/plain": [
       "<matplotlib.axes._subplots.AxesSubplot at 0x2649612eb08>"
      ]
     },
     "execution_count": 4,
     "metadata": {},
     "output_type": "execute_result"
    },
    {
     "data": {
      "image/png": "[encoded data removed]",
      "text/plain": [
       "<Figure size 432x288 with 1 Axes>"
      ]
     },
     "metadata": {
      "needs_background": "light"
     },
     "output_type": "display_data"
    }
   ],
   "source": [
    "df['y'].value_counts().plot(kind='bar')"
   ]
  },
  {
   "cell_type": "markdown",
   "metadata": {},
   "source": [
    "Another aspect that may be interesting to look at is any correlations between the numeric variables."
   ]
  },
  {
   "cell_type": "code",
   "execution_count": 5,
   "metadata": {},
   "outputs": [
    {
     "data": {
      "image/png": "[encoded data removed]",
      "text/plain": [
       "<Figure size 432x288 with 2 Axes>"
      ]
     },
     "metadata": {
      "needs_background": "light"
     },
     "output_type": "display_data"
    }
   ],
   "source": [
    "sns.heatmap(df.corr())\n",
    "plt.title(\"Heatmap of numeric features\");"
   ]
  },
  {
   "cell_type": "markdown",
   "metadata": {},
   "source": [
    "Columns x2 and x10 appear to be very strongly correlated.\n",
    "\n",
    "Let's look to see if we have any NA values in our data."
   ]
  },
  {
   "cell_type": "code",
   "execution_count": 6,
   "metadata": {},
   "outputs": [
    {
     "name": "stdout",
     "output_type": "stream",
     "text": [
      "\n",
      "TOTAL Sum NA VALUES IN DF:\n",
      "1017\n",
      "\n",
      "TOTAL Percentage NA VALUES IN DF:\n",
      "0.013684805425480381\n",
      "\n",
      "SUM OF NA VALUES FOR EACH COLUMN:\n",
      "x2     445\n",
      "x1     343\n",
      "x7     229\n",
      "y        0\n",
      "x10      0\n",
      "x9       0\n",
      "x8       0\n",
      "x6       0\n",
      "x5       0\n",
      "x4       0\n",
      "x3       0\n",
      "x0       0\n",
      "dtype: int64\n"
     ]
    },
    {
     "data": {
      "image/png": "[encoded data removed]",
      "text/plain": [
       "<Figure size 432x288 with 1 Axes>"
      ]
     },
     "metadata": {
      "needs_background": "light"
     },
     "output_type": "display_data"
    }
   ],
   "source": [
    "print(\"\\nTOTAL Sum NA VALUES IN DF:\")\n",
    "total_NA = df.isna().sum().sum()\n",
    "print(str(total_NA))\n",
    "\n",
    "print(\"\\nTOTAL Percentage NA VALUES IN DF:\")\n",
    "frac_NA = df.isna().mean().mean()\n",
    "print(str(frac_NA) + \"\\n\")\n",
    "\n",
    "print(\"SUM OF NA VALUES FOR EACH COLUMN:\")\n",
    "sum_NA = df.isna().sum().sort_values(ascending=False)\n",
    "print(str(sum_NA))\n",
    "\n",
    "frac_NA = df.isna().mean().sort_values(ascending=False)\n",
    "# plot columns NA values\n",
    "frac_NA[frac_NA > 0].plot.bar()\n",
    "plt.title('Columns with NA values')\n",
    "plt.ylabel('Percentage');"
   ]
  },
  {
   "cell_type": "markdown",
   "metadata": {},
   "source": [
    "Columns x2, x1, and x7 all contain NA values, but the totals appear to be very minimal.\n",
    "Let's check how many row we would lose if we dropped all of the rows with na values."
   ]
  },
  {
   "cell_type": "code",
   "execution_count": 7,
   "metadata": {},
   "outputs": [
    {
     "data": {
      "text/plain": [
       "(6193, 12)"
      ]
     },
     "execution_count": 7,
     "metadata": {},
     "output_type": "execute_result"
    }
   ],
   "source": [
    "temp = df\n",
    "temp.shape"
   ]
  },
  {
   "cell_type": "code",
   "execution_count": 8,
   "metadata": {},
   "outputs": [
    {
     "data": {
      "text/plain": [
       "(5236, 12)"
      ]
     },
     "execution_count": 8,
     "metadata": {},
     "output_type": "execute_result"
    }
   ],
   "source": [
    "temp.dropna(inplace=True)\n",
    "df.shape"
   ]
  },
  {
   "cell_type": "markdown",
   "metadata": {},
   "source": [
    "We would lose about 15 percent of our rows if dropped all of the na values.\n",
    "Since we lost a decent chunck of data and the amount of na values is quite low it may be a better idea to impute these columns.\n",
    "We will use the mean x2 which is numerical. We will us the mode for x1 and x7 which are categorical.\n",
    "\n",
    "Next, let's get an idea of what the distribution of each value in all of the columns looks like."
   ]
  },
  {
   "cell_type": "code",
   "execution_count": 9,
   "metadata": {},
   "outputs": [
    {
     "name": "stdout",
     "output_type": "stream",
     "text": [
      "column: x0\n",
      "A0    2663\n",
      "A1    2573\n",
      "Name: x0, dtype: int64\n",
      "column: x1\n",
      "A1    3683\n",
      "A0    1553\n",
      "Name: x1, dtype: int64\n",
      "column: x2\n",
      "1.0     461\n",
      "72.0    273\n",
      "2.0     181\n",
      "3.0     151\n",
      "4.0     134\n",
      "       ... \n",
      "28.0     39\n",
      "38.0     38\n",
      "36.0     37\n",
      "39.0     36\n",
      "0.0       8\n",
      "Name: x2, Length: 73, dtype: int64\n",
      "column: x3\n",
      "A2    2515\n",
      "A1    2204\n",
      "A0     517\n",
      "Name: x3, dtype: int64\n",
      "column: x4\n",
      "A1         2315\n",
      "A0         1794\n",
      "A2         1122\n",
      "unknown       5\n",
      "Name: x4, dtype: int64\n",
      "column: x5\n",
      "A1    2098\n",
      "A0    2016\n",
      "A2    1122\n",
      "Name: x5, dtype: int64\n",
      "column: x6\n",
      "A0    2095\n",
      "A2    2019\n",
      "A1    1122\n",
      "Name: x6, dtype: int64\n",
      "column: x7\n",
      "A1    2913\n",
      "A0    1249\n",
      "A2    1074\n",
      "Name: x7, dtype: int64\n",
      "column: x8\n",
      "A1    3099\n",
      "A0    2137\n",
      "Name: x8, dtype: int64\n",
      "column: x9\n",
      "20.05     44\n",
      "19.95     35\n",
      "19.70     35\n",
      "19.85     33\n",
      "19.90     33\n",
      "          ..\n",
      "71.25      1\n",
      "28.50      1\n",
      "105.80     1\n",
      "34.20      1\n",
      "31.00      1\n",
      "Name: x9, Length: 1476, dtype: int64\n",
      "column: x10\n",
      "20.20      9\n",
      "0.00       8\n",
      "19.90      7\n",
      "19.65      7\n",
      "19.75      6\n",
      "          ..\n",
      "3442.80    1\n",
      "1677.85    1\n",
      "4671.70    1\n",
      "4576.30    1\n",
      "252.00     1\n",
      "Name: x10, Length: 4922, dtype: int64\n",
      "column: y\n",
      "A0    3830\n",
      "A1    1406\n",
      "Name: y, dtype: int64\n"
     ]
    }
   ],
   "source": [
    "for col in df:\n",
    "  print(\"column: \" + col)\n",
    "  print(df[col].value_counts())"
   ]
  },
  {
   "cell_type": "markdown",
   "metadata": {},
   "source": [
    "If you look at column x4 there are 5 values listed as 'unknown'. This is a very small number of rows so we will delete these indefinitely.\n",
    "No categorical columns appear to have too many variables.\n",
    "\n"
   ]
  },
  {
   "cell_type": "markdown",
   "metadata": {},
   "source": [
    "## Data preprocessing"
   ]
  },
  {
   "cell_type": "markdown",
   "metadata": {},
   "source": [
    "Remove the unknown values we discovered."
   ]
  },
  {
   "cell_type": "code",
   "execution_count": 10,
   "metadata": {},
   "outputs": [
    {
     "data": {
      "text/plain": [
       "(5231, 12)"
      ]
     },
     "execution_count": 10,
     "metadata": {},
     "output_type": "execute_result"
    }
   ],
   "source": [
    "df.shape\n",
    "df = df[(df['x4']!='unknown')]\n",
    "df.shape"
   ]
  },
  {
   "cell_type": "markdown",
   "metadata": {},
   "source": [
    "Impute the missing values we discovered."
   ]
  },
  {
   "cell_type": "code",
   "execution_count": 11,
   "metadata": {},
   "outputs": [
    {
     "data": {
      "text/plain": [
       "1       A1\n",
       "2       A1\n",
       "3       A1\n",
       "4       A1\n",
       "5       A2\n",
       "        ..\n",
       "6188    A1\n",
       "6189    A0\n",
       "6190    A1\n",
       "6191    A2\n",
       "6192    A2\n",
       "Name: x7, Length: 5231, dtype: object"
      ]
     },
     "execution_count": 11,
     "metadata": {},
     "output_type": "execute_result"
    }
   ],
   "source": [
    "# replace NA with mean in x2\n",
    "x2_mean = df['x2'].mean()\n",
    "df['x2'].fillna(x2_mean)\n",
    "\n",
    "# replace NA with mode in x1\n",
    "m = df['x1'].value_counts().index[0]\n",
    "df['x1'].fillna(m)\n",
    "\n",
    "# replace NA with mode in x7\n",
    "m = df['x7'].value_counts().index[0]\n",
    "df['x7'].fillna(m)"
   ]
  },
  {
   "cell_type": "markdown",
   "metadata": {},
   "source": [
    "Since the target variable is categorical we will convert the numerical columns to categorical columns. Each column will be split into 3 categories. The categories will be small, medium, and large."
   ]
  },
  {
   "cell_type": "code",
   "execution_count": 12,
   "metadata": {},
   "outputs": [],
   "source": [
    "quantiles = df['x2'].quantile([0, 0.33, 0.66, 1])\n",
    "df['x2'] = pd.cut(df['x2'],\n",
    "include_lowest=True, bins=quantiles,\n",
    "labels=['small', 'medium', 'large'])\n",
    "\n",
    "quantiles = df['x9'].quantile([0, 0.33, 0.66, 1])\n",
    "df['x9'] = pd.cut(df['x9'],\n",
    "include_lowest=True, bins=quantiles,\n",
    "labels=['small', 'medium', 'large'])\n",
    "\n",
    "quantiles = df['x10'].quantile([0, 0.33, 0.66, 1])\n",
    "df['x10'] = pd.cut(df['x10'],\n",
    "include_lowest=True, bins=quantiles,\n",
    "labels=['small', 'medium', 'large'])"
   ]
  },
  {
   "cell_type": "markdown",
   "metadata": {},
   "source": [
    "## Data visualization"
   ]
  },
  {
   "cell_type": "markdown",
   "metadata": {},
   "source": [
    "Here we will do some basic grouped bar plots since our data is now all categorical. We will try to check for relations between our target y and other columns since we do not really know what any of the columns in the dataset mean."
   ]
  },
  {
   "cell_type": "code",
   "execution_count": 13,
   "metadata": {},
   "outputs": [
    {
     "data": {
      "image/png": "[encoded data removed]",
      "text/plain": [
       "<Figure size 432x288 with 1 Axes>"
      ]
     },
     "metadata": {
      "needs_background": "light"
     },
     "output_type": "display_data"
    }
   ],
   "source": [
    "sns.countplot(x='y', hue='x2', data=df);"
   ]
  },
  {
   "cell_type": "code",
   "execution_count": 14,
   "metadata": {},
   "outputs": [
    {
     "data": {
      "image/png": "[encoded data removed]",
      "text/plain": [
       "<Figure size 432x288 with 1 Axes>"
      ]
     },
     "metadata": {
      "needs_background": "light"
     },
     "output_type": "display_data"
    }
   ],
   "source": [
    "sns.countplot(x='y', hue='x4', data=df);"
   ]
  },
  {
   "cell_type": "code",
   "execution_count": 15,
   "metadata": {},
   "outputs": [
    {
     "data": {
      "image/png": "[encoded data removed]",
      "text/plain": [
       "<Figure size 432x288 with 1 Axes>"
      ]
     },
     "metadata": {
      "needs_background": "light"
     },
     "output_type": "display_data"
    }
   ],
   "source": [
    "sns.countplot(x='y', hue='x7', data=df);"
   ]
  },
  {
   "cell_type": "markdown",
   "metadata": {},
   "source": [
    "Let's look at x2 and x10 since our heatmap showed them to have such a strong correlation."
   ]
  },
  {
   "cell_type": "code",
   "execution_count": 16,
   "metadata": {},
   "outputs": [
    {
     "data": {
      "image/png": "[encoded data removed]",
      "text/plain": [
       "<Figure size 432x288 with 1 Axes>"
      ]
     },
     "metadata": {
      "needs_background": "light"
     },
     "output_type": "display_data"
    }
   ],
   "source": [
    "tbl = pd.crosstab(df['x2'], df['x10'])\n",
    "tbl = tbl.div(df['x2'].value_counts(), axis=0)\n",
    "tbl.plot.bar(stacked=True);"
   ]
  },
  {
   "cell_type": "markdown",
   "metadata": {},
   "source": [
    "## Machine learning"
   ]
  },
  {
   "cell_type": "markdown",
   "metadata": {},
   "source": [
    "Before we begin machine learning we will use the function get_dummies provided by pandas to convert all of the data to numerical values. We must do this since we are working with Scikit-Learn."
   ]
  },
  {
   "cell_type": "code",
   "execution_count": 17,
   "metadata": {},
   "outputs": [],
   "source": [
    "df2 = pd.get_dummies(df, drop_first = True)"
   ]
  },
  {
   "cell_type": "code",
   "execution_count": 18,
   "metadata": {},
   "outputs": [],
   "source": [
    "def print_conf_mtx(y_true, y_pred, classes=None):\n",
    "    \"\"\" Print a confusion matrix (two classes only). \"\"\"\n",
    "    \n",
    "    if not classes:\n",
    "        classes = ['neg', 'pos']\n",
    "   \t \n",
    "    # formatting\n",
    "    max_class_len = max([len(s) for s in classes])\n",
    "    m = max(max_class_len, len('predicted')//2 + 1)\n",
    "    n = max(len('actual')+1, max_class_len)\n",
    "    left   \t= '{:<10s}'.replace('10',str(n))\n",
    "    right  \t= '{:>10s}'.replace('10',str(m))\n",
    "    big_center = '{:^20s}'.replace('20',str(m*2))\n",
    "    \n",
    "    cm = confusion_matrix(y_test, y_pred)\n",
    "    print((left+big_center).format('', 'predicted'))\n",
    "    print((left+right+right).format('actual', classes[0], classes[1]))\n",
    "    print((left+right+right).format(classes[0], str(cm[0,0]), str(cm[0,1])))\n",
    "    print((left+right+right).format(classes[1], str(cm[1,0]), str(cm[1,1])))"
   ]
  },
  {
   "cell_type": "code",
   "execution_count": 19,
   "metadata": {},
   "outputs": [],
   "source": [
    "def forward_selection(cap, X_train, y_train, method):\n",
    "    remaining = list(range(X_train.shape[1]))\n",
    "    selected = []\n",
    "    n = cap\n",
    "    while len(selected) < n:\n",
    "        min_acc = -1e7\n",
    "        for i in remaining:\n",
    "            X_i = X_train[:,selected+[i]]\n",
    "            scores = cross_val_score(method, X_i, y_train, scoring='accuracy', cv=10)\n",
    "            accuracy = scores.mean() \n",
    "            if accuracy > min_acc:\n",
    "                min_acc = accuracy\n",
    "                i_min = i\n",
    "\n",
    "        remaining.remove(i_min)\n",
    "        selected.append(i_min)\n",
    "        print('Feature Count: {}; Accuracy: {:.2f}'.format(len(selected), min_acc))\n",
    "    return selected"
   ]
  },
  {
   "cell_type": "markdown",
   "metadata": {},
   "source": [
    "## Model 1: Tree Classifier without forward selection and without grid search"
   ]
  },
  {
   "cell_type": "markdown",
   "metadata": {},
   "source": [
    "Tree classfiers tend to be quite flexible. Implementing a tree model with as many predictors as possible will give us a good starting point."
   ]
  },
  {
   "cell_type": "code",
   "execution_count": 20,
   "metadata": {},
   "outputs": [],
   "source": [
    "np.random.seed(50)\n",
    "X = df2.drop(labels=['y_A1'], axis=1).values # predictors\n",
    "y = df2['y_A1'].values #target\n",
    "X_train, X_test, y_train, y_test = train_test_split(X, y, test_size=0.3, random_state=50)\n",
    "\n",
    "clf1 = DecisionTreeClassifier(random_state=0);\n",
    "clf1.fit(X_train, y_train);"
   ]
  },
  {
   "cell_type": "markdown",
   "metadata": {},
   "source": [
    "Since we used as many predictors as possible and we did not put a limit on the tree depth, our tree will be quite big. For this reason we will not be graphing the first tree. We can however still take a look at the confusion matrix, accuracy and learning curve to see how well the model performed."
   ]
  },
  {
   "cell_type": "code",
   "execution_count": 21,
   "metadata": {},
   "outputs": [
    {
     "name": "stdout",
     "output_type": "stream",
     "text": [
      "Baseline Accuracy: 0.733\n",
      "Accuracy of Model: 0.775\n"
     ]
    }
   ],
   "source": [
    "print(\"Baseline Accuracy: {:.3}\".format(1-y_train.mean()))\n",
    "y_predict = clf1.predict(X_test)\n",
    "print(\"Accuracy of Model: {:.3}\".format((y_predict == y_test).mean()))"
   ]
  },
  {
   "cell_type": "markdown",
   "metadata": {},
   "source": [
    "Our model was just a bit more accurate then our calculated baseline accuracy."
   ]
  },
  {
   "cell_type": "code",
   "execution_count": 22,
   "metadata": {},
   "outputs": [
    {
     "name": "stdout",
     "output_type": "stream",
     "text": [
      "       predicted \n",
      "actual   neg  pos\n",
      "neg     1000  145\n",
      "pos      208  217\n"
     ]
    }
   ],
   "source": [
    "print_conf_mtx(y_test, y_predict)"
   ]
  },
  {
   "cell_type": "markdown",
   "metadata": {},
   "source": [
    "Our first tree model is doing pretty well for predicting negative, but predicting positive seems to be a bit harder."
   ]
  },
  {
   "cell_type": "code",
   "execution_count": 23,
   "metadata": {},
   "outputs": [
    {
     "data": {
      "text/plain": [
       "<matplotlib.legend.Legend at 0x2649654e308>"
      ]
     },
     "execution_count": 23,
     "metadata": {},
     "output_type": "execute_result"
    },
    {
     "data": {
      "image/png": "[encoded data removed]",
      "text/plain": [
       "<Figure size 432x288 with 1 Axes>"
      ]
     },
     "metadata": {
      "needs_background": "light"
     },
     "output_type": "display_data"
    }
   ],
   "source": [
    "train_sizes, train_scores, test_scores = learning_curve(clf1, X, y, \n",
    "cv=10, scoring='accuracy')\n",
    "train_scores_mean = np.mean(train_scores, axis=1)\n",
    "test_scores_mean = np.mean(test_scores, axis=1)\n",
    "\n",
    "# plot the learning curve\n",
    "plt.plot(train_sizes, train_scores_mean, label='train')\n",
    "plt.plot(train_sizes, test_scores_mean, label='test')\n",
    "plt.title('Learning curve, decision tree')\n",
    "plt.xlabel('training set size')\n",
    "plt.ylabel('accuracy')\n",
    "plt.legend()\n"
   ]
  },
  {
   "cell_type": "markdown",
   "metadata": {},
   "source": [
    "Looking at the learning curve we can see the is quite a large gap between the training and test accuracy. We can also see that the model is doing better on the training data than it is on the test data."
   ]
  },
  {
   "cell_type": "markdown",
   "metadata": {},
   "source": [
    "# Model 2: Tree classification with forward selection and grid search"
   ]
  },
  {
   "cell_type": "markdown",
   "metadata": {},
   "source": [
    "Next we will try implementing forward regression to find the best predictors for our second tree model. We will also implemnt a grid search function to find the best parameters to tune our model with."
   ]
  },
  {
   "cell_type": "code",
   "execution_count": 24,
   "metadata": {},
   "outputs": [
    {
     "name": "stdout",
     "output_type": "stream",
     "text": [
      "Feature Count: 1; Accuracy: 0.73\n",
      "Feature Count: 2; Accuracy: 0.73\n",
      "Feature Count: 3; Accuracy: 0.73\n",
      "Feature Count: 4; Accuracy: 0.73\n",
      "Feature Count: 5; Accuracy: 0.77\n"
     ]
    }
   ],
   "source": [
    "np.random.seed(50)\n",
    "X = df2.drop(labels=['y_A1'], axis=1).values # predictors\n",
    "y = df2['y_A1'].values #target\n",
    "X_train, X_test, y_train, y_test = train_test_split(X, y, test_size=0.30, random_state=50)\n",
    "# clf2 = DecisionTreeClassifier(random_state=0);\n",
    "# choosing features using forward selection\n",
    "# selected = forward_selection(5, X_train, y_train, clf2)\n",
    "selected = forward_selection(5, X_train, y_train, DecisionTreeClassifier(random_state=0))"
   ]
  },
  {
   "cell_type": "markdown",
   "metadata": {},
   "source": [
    "It looks like we have to use a minimum of 5 features to get any kind of boost in accuracy."
   ]
  },
  {
   "cell_type": "code",
   "execution_count": 25,
   "metadata": {},
   "outputs": [
    {
     "name": "stdout",
     "output_type": "stream",
     "text": [
      "5 best features: ['x0_A1' 'x1_A1' 'x2_medium' 'x7_A1' 'x4_A1']\n"
     ]
    }
   ],
   "source": [
    "predictors = df2.columns[selected[0:5]].values\n",
    "print(\"5 best features:\", predictors)"
   ]
  },
  {
   "cell_type": "code",
   "execution_count": 26,
   "metadata": {},
   "outputs": [],
   "source": [
    "scoring = make_scorer(accuracy_score)\n",
    "grid = [{'max_depth': [i for i in range(10,15)], 'min_samples_leaf':[2,3,4,5], 'max_features': [i for i in range(2,7)]\n",
    "         , 'random_state':[50]}]\n",
    "\n",
    "# Using grid search to determine which parameters work best\n",
    "clf2 = GridSearchCV(DecisionTreeClassifier(random_state=0), grid, scoring=scoring, cv=10)\n",
    "clf2 = DecisionTreeClassifier(random_state=0)\n",
    "\n",
    "clf2.fit(X_train[:,selected], y_train);"
   ]
  },
  {
   "cell_type": "markdown",
   "metadata": {},
   "source": [
    "This tree should be a bit smaller so let's go ahead and graph it."
   ]
  },
  {
   "cell_type": "code",
   "execution_count": 27,
   "metadata": {},
   "outputs": [
    {
     "data": {
      "image/svg+xml": [
       "<?xml version=\"1.0\" encoding=\"UTF-8\" standalone=\"no\"?>\r\n",
       "<!DOCTYPE svg PUBLIC \"-//W3C//DTD SVG 1.1//EN\"\r\n",
       " \"http://www.w3.org/Graphics/SVG/1.1/DTD/svg11.dtd\">\r\n",
       "<!-- Generated by graphviz version 2.38.0 (20140413.2041)\r\n",
       " -->\r\n",
       "<!-- Title: Tree Pages: 1 -->\r\n",
       "<svg width=\"4902pt\" height=\"671pt\"\r\n",
       " viewBox=\"0.00 0.00 4902.00 671.00\" xmlns=\"http://www.w3.org/2000/svg\" xmlns:xlink=\"http://www.w3.org/1999/xlink\">\r\n",
       "<g id=\"graph0\" class=\"graph\" transform=\"scale(1 1) rotate(0) translate(4 667)\">\r\n",
       "<title>Tree</title>\r\n",
       "<polygon fill=\"white\" stroke=\"none\" points=\"-4,4 -4,-667 4898,-667 4898,4 -4,4\"/>\r\n",
       "<!-- 0 -->\r\n",
       "<g id=\"node1\" class=\"node\"><title>0</title>\r\n",
       "<path fill=\"#eeaf81\" stroke=\"black\" d=\"M2607,-663C2607,-663 2494,-663 2494,-663 2488,-663 2482,-657 2482,-651 2482,-651 2482,-592 2482,-592 2482,-586 2488,-580 2494,-580 2494,-580 2607,-580 2607,-580 2613,-580 2619,-586 2619,-592 2619,-592 2619,-651 2619,-651 2619,-657 2613,-663 2607,-663\"/>\r\n",
       "<text text-anchor=\"start\" x=\"2512\" y=\"-647.8\" font-family=\"Helvetica,sans-Serif\" font-size=\"14.00\">x7_A1 ≤ 0.5</text>\r\n",
       "<text text-anchor=\"start\" x=\"2517\" y=\"-632.8\" font-family=\"Helvetica,sans-Serif\" font-size=\"14.00\">gini = 0.39</text>\r\n",
       "<text text-anchor=\"start\" x=\"2490.5\" y=\"-617.8\" font-family=\"Helvetica,sans-Serif\" font-size=\"14.00\">samples = 100.0%</text>\r\n",
       "<text text-anchor=\"start\" x=\"2490\" y=\"-602.8\" font-family=\"Helvetica,sans-Serif\" font-size=\"14.00\">value = [0.73, 0.27]</text>\r\n",
       "<text text-anchor=\"start\" x=\"2517\" y=\"-587.8\" font-family=\"Helvetica,sans-Serif\" font-size=\"14.00\">class = A1</text>\r\n",
       "</g>\r\n",
       "<!-- 1 -->\r\n",
       "<g id=\"node2\" class=\"node\"><title>1</title>\r\n",
       "<path fill=\"#e78b48\" stroke=\"black\" d=\"M1944,-544C1944,-544 1831,-544 1831,-544 1825,-544 1819,-538 1819,-532 1819,-532 1819,-473 1819,-473 1819,-467 1825,-461 1831,-461 1831,-461 1944,-461 1944,-461 1950,-461 1956,-467 1956,-473 1956,-473 1956,-532 1956,-532 1956,-538 1950,-544 1944,-544\"/>\r\n",
       "<text text-anchor=\"start\" x=\"1849\" y=\"-528.8\" font-family=\"Helvetica,sans-Serif\" font-size=\"14.00\">x4_A1 ≤ 0.5</text>\r\n",
       "<text text-anchor=\"start\" x=\"1854\" y=\"-513.8\" font-family=\"Helvetica,sans-Serif\" font-size=\"14.00\">gini = 0.13</text>\r\n",
       "<text text-anchor=\"start\" x=\"1831.5\" y=\"-498.8\" font-family=\"Helvetica,sans-Serif\" font-size=\"14.00\">samples = 44.8%</text>\r\n",
       "<text text-anchor=\"start\" x=\"1827\" y=\"-483.8\" font-family=\"Helvetica,sans-Serif\" font-size=\"14.00\">value = [0.93, 0.07]</text>\r\n",
       "<text text-anchor=\"start\" x=\"1854\" y=\"-468.8\" font-family=\"Helvetica,sans-Serif\" font-size=\"14.00\">class = A1</text>\r\n",
       "</g>\r\n",
       "<!-- 0&#45;&gt;1 -->\r\n",
       "<g id=\"edge1\" class=\"edge\"><title>0&#45;&gt;1</title>\r\n",
       "<path fill=\"none\" stroke=\"black\" d=\"M2481.73,-608.365C2357.6,-586.459 2096.85,-540.444 1965.96,-517.346\"/>\r\n",
       "<polygon fill=\"black\" stroke=\"black\" points=\"1966.46,-513.88 1956,-515.589 1965.24,-520.773 1966.46,-513.88\"/>\r\n",
       "<text text-anchor=\"middle\" x=\"1970.34\" y=\"-532.369\" font-family=\"Helvetica,sans-Serif\" font-size=\"14.00\">True</text>\r\n",
       "</g>\r\n",
       "<!-- 32 -->\r\n",
       "<g id=\"node33\" class=\"node\"><title>32</title>\r\n",
       "<path fill=\"#f8dfcc\" stroke=\"black\" d=\"M3116,-544C3116,-544 3003,-544 3003,-544 2997,-544 2991,-538 2991,-532 2991,-532 2991,-473 2991,-473 2991,-467 2997,-461 3003,-461 3003,-461 3116,-461 3116,-461 3122,-461 3128,-467 3128,-473 3128,-473 3128,-532 3128,-532 3128,-538 3122,-544 3116,-544\"/>\r\n",
       "<text text-anchor=\"start\" x=\"3021\" y=\"-528.8\" font-family=\"Helvetica,sans-Serif\" font-size=\"14.00\">x4_A1 ≤ 0.5</text>\r\n",
       "<text text-anchor=\"start\" x=\"3026\" y=\"-513.8\" font-family=\"Helvetica,sans-Serif\" font-size=\"14.00\">gini = 0.49</text>\r\n",
       "<text text-anchor=\"start\" x=\"3003.5\" y=\"-498.8\" font-family=\"Helvetica,sans-Serif\" font-size=\"14.00\">samples = 55.2%</text>\r\n",
       "<text text-anchor=\"start\" x=\"2999\" y=\"-483.8\" font-family=\"Helvetica,sans-Serif\" font-size=\"14.00\">value = [0.57, 0.43]</text>\r\n",
       "<text text-anchor=\"start\" x=\"3026\" y=\"-468.8\" font-family=\"Helvetica,sans-Serif\" font-size=\"14.00\">class = A1</text>\r\n",
       "</g>\r\n",
       "<!-- 0&#45;&gt;32 -->\r\n",
       "<g id=\"edge32\" class=\"edge\"><title>0&#45;&gt;32</title>\r\n",
       "<path fill=\"none\" stroke=\"black\" d=\"M2619.15,-604.721C2713.2,-583.102 2881.71,-544.368 2980.77,-521.597\"/>\r\n",
       "<polygon fill=\"black\" stroke=\"black\" points=\"2981.76,-524.96 2990.72,-519.309 2980.19,-518.138 2981.76,-524.96\"/>\r\n",
       "<text text-anchor=\"middle\" x=\"2977.46\" y=\"-536.798\" font-family=\"Helvetica,sans-Serif\" font-size=\"14.00\">False</text>\r\n",
       "</g>\r\n",
       "<!-- 2 -->\r\n",
       "<g id=\"node3\" class=\"node\"><title>2</title>\r\n",
       "<path fill=\"#e68641\" stroke=\"black\" d=\"M978,-425C978,-425 865,-425 865,-425 859,-425 853,-419 853,-413 853,-413 853,-354 853,-354 853,-348 859,-342 865,-342 865,-342 978,-342 978,-342 984,-342 990,-348 990,-354 990,-354 990,-413 990,-413 990,-419 984,-425 978,-425\"/>\r\n",
       "<text text-anchor=\"start\" x=\"883\" y=\"-409.8\" font-family=\"Helvetica,sans-Serif\" font-size=\"14.00\">x0_A1 ≤ 0.5</text>\r\n",
       "<text text-anchor=\"start\" x=\"888\" y=\"-394.8\" font-family=\"Helvetica,sans-Serif\" font-size=\"14.00\">gini = 0.07</text>\r\n",
       "<text text-anchor=\"start\" x=\"865.5\" y=\"-379.8\" font-family=\"Helvetica,sans-Serif\" font-size=\"14.00\">samples = 30.9%</text>\r\n",
       "<text text-anchor=\"start\" x=\"861\" y=\"-364.8\" font-family=\"Helvetica,sans-Serif\" font-size=\"14.00\">value = [0.96, 0.04]</text>\r\n",
       "<text text-anchor=\"start\" x=\"888\" y=\"-349.8\" font-family=\"Helvetica,sans-Serif\" font-size=\"14.00\">class = A1</text>\r\n",
       "</g>\r\n",
       "<!-- 1&#45;&gt;2 -->\r\n",
       "<g id=\"edge2\" class=\"edge\"><title>1&#45;&gt;2</title>\r\n",
       "<path fill=\"none\" stroke=\"black\" d=\"M1818.8,-493.179C1644.4,-472.057 1185.3,-416.45 1000.36,-394.052\"/>\r\n",
       "<polygon fill=\"black\" stroke=\"black\" points=\"1000.52,-390.545 990.17,-392.817 999.677,-397.494 1000.52,-390.545\"/>\r\n",
       "</g>\r\n",
       "<!-- 17 -->\r\n",
       "<g id=\"node18\" class=\"node\"><title>17</title>\r\n",
       "<path fill=\"#ea975c\" stroke=\"black\" d=\"M1944,-425C1944,-425 1831,-425 1831,-425 1825,-425 1819,-419 1819,-413 1819,-413 1819,-354 1819,-354 1819,-348 1825,-342 1831,-342 1831,-342 1944,-342 1944,-342 1950,-342 1956,-348 1956,-354 1956,-354 1956,-413 1956,-413 1956,-419 1950,-425 1944,-425\"/>\r\n",
       "<text text-anchor=\"start\" x=\"1832.5\" y=\"-409.8\" font-family=\"Helvetica,sans-Serif\" font-size=\"14.00\">x2_medium ≤ 0.5</text>\r\n",
       "<text text-anchor=\"start\" x=\"1854\" y=\"-394.8\" font-family=\"Helvetica,sans-Serif\" font-size=\"14.00\">gini = 0.25</text>\r\n",
       "<text text-anchor=\"start\" x=\"1831.5\" y=\"-379.8\" font-family=\"Helvetica,sans-Serif\" font-size=\"14.00\">samples = 13.9%</text>\r\n",
       "<text text-anchor=\"start\" x=\"1827\" y=\"-364.8\" font-family=\"Helvetica,sans-Serif\" font-size=\"14.00\">value = [0.85, 0.15]</text>\r\n",
       "<text text-anchor=\"start\" x=\"1854\" y=\"-349.8\" font-family=\"Helvetica,sans-Serif\" font-size=\"14.00\">class = A1</text>\r\n",
       "</g>\r\n",
       "<!-- 1&#45;&gt;17 -->\r\n",
       "<g id=\"edge17\" class=\"edge\"><title>1&#45;&gt;17</title>\r\n",
       "<path fill=\"none\" stroke=\"black\" d=\"M1887.5,-460.907C1887.5,-452.649 1887.5,-443.864 1887.5,-435.302\"/>\r\n",
       "<polygon fill=\"black\" stroke=\"black\" points=\"1891,-435.021 1887.5,-425.021 1884,-435.021 1891,-435.021\"/>\r\n",
       "</g>\r\n",
       "<!-- 3 -->\r\n",
       "<g id=\"node4\" class=\"node\"><title>3</title>\r\n",
       "<path fill=\"#e68843\" stroke=\"black\" d=\"M513,-306C513,-306 400,-306 400,-306 394,-306 388,-300 388,-294 388,-294 388,-235 388,-235 388,-229 394,-223 400,-223 400,-223 513,-223 513,-223 519,-223 525,-229 525,-235 525,-235 525,-294 525,-294 525,-300 519,-306 513,-306\"/>\r\n",
       "<text text-anchor=\"start\" x=\"418\" y=\"-290.8\" font-family=\"Helvetica,sans-Serif\" font-size=\"14.00\">x1_A1 ≤ 0.5</text>\r\n",
       "<text text-anchor=\"start\" x=\"423\" y=\"-275.8\" font-family=\"Helvetica,sans-Serif\" font-size=\"14.00\">gini = 0.09</text>\r\n",
       "<text text-anchor=\"start\" x=\"400.5\" y=\"-260.8\" font-family=\"Helvetica,sans-Serif\" font-size=\"14.00\">samples = 15.5%</text>\r\n",
       "<text text-anchor=\"start\" x=\"396\" y=\"-245.8\" font-family=\"Helvetica,sans-Serif\" font-size=\"14.00\">value = [0.95, 0.05]</text>\r\n",
       "<text text-anchor=\"start\" x=\"423\" y=\"-230.8\" font-family=\"Helvetica,sans-Serif\" font-size=\"14.00\">class = A1</text>\r\n",
       "</g>\r\n",
       "<!-- 2&#45;&gt;3 -->\r\n",
       "<g id=\"edge3\" class=\"edge\"><title>2&#45;&gt;3</title>\r\n",
       "<path fill=\"none\" stroke=\"black\" d=\"M852.888,-365.236C768.027,-343.884 623.899,-307.62 534.797,-285.201\"/>\r\n",
       "<polygon fill=\"black\" stroke=\"black\" points=\"535.566,-281.785 525.015,-282.739 533.858,-288.574 535.566,-281.785\"/>\r\n",
       "</g>\r\n",
       "<!-- 10 -->\r\n",
       "<g id=\"node11\" class=\"node\"><title>10</title>\r\n",
       "<path fill=\"#e6843e\" stroke=\"black\" d=\"M978,-306C978,-306 865,-306 865,-306 859,-306 853,-300 853,-294 853,-294 853,-235 853,-235 853,-229 859,-223 865,-223 865,-223 978,-223 978,-223 984,-223 990,-229 990,-235 990,-235 990,-294 990,-294 990,-300 984,-306 978,-306\"/>\r\n",
       "<text text-anchor=\"start\" x=\"866.5\" y=\"-290.8\" font-family=\"Helvetica,sans-Serif\" font-size=\"14.00\">x2_medium ≤ 0.5</text>\r\n",
       "<text text-anchor=\"start\" x=\"888\" y=\"-275.8\" font-family=\"Helvetica,sans-Serif\" font-size=\"14.00\">gini = 0.05</text>\r\n",
       "<text text-anchor=\"start\" x=\"865.5\" y=\"-260.8\" font-family=\"Helvetica,sans-Serif\" font-size=\"14.00\">samples = 15.4%</text>\r\n",
       "<text text-anchor=\"start\" x=\"861\" y=\"-245.8\" font-family=\"Helvetica,sans-Serif\" font-size=\"14.00\">value = [0.98, 0.02]</text>\r\n",
       "<text text-anchor=\"start\" x=\"888\" y=\"-230.8\" font-family=\"Helvetica,sans-Serif\" font-size=\"14.00\">class = A1</text>\r\n",
       "</g>\r\n",
       "<!-- 2&#45;&gt;10 -->\r\n",
       "<g id=\"edge10\" class=\"edge\"><title>2&#45;&gt;10</title>\r\n",
       "<path fill=\"none\" stroke=\"black\" d=\"M921.5,-341.907C921.5,-333.649 921.5,-324.864 921.5,-316.302\"/>\r\n",
       "<polygon fill=\"black\" stroke=\"black\" points=\"925,-316.021 921.5,-306.021 918,-316.021 925,-316.021\"/>\r\n",
       "</g>\r\n",
       "<!-- 4 -->\r\n",
       "<g id=\"node5\" class=\"node\"><title>4</title>\r\n",
       "<path fill=\"#e68742\" stroke=\"black\" d=\"M280,-187C280,-187 167,-187 167,-187 161,-187 155,-181 155,-175 155,-175 155,-116 155,-116 155,-110 161,-104 167,-104 167,-104 280,-104 280,-104 286,-104 292,-110 292,-116 292,-116 292,-175 292,-175 292,-181 286,-187 280,-187\"/>\r\n",
       "<text text-anchor=\"start\" x=\"168.5\" y=\"-171.8\" font-family=\"Helvetica,sans-Serif\" font-size=\"14.00\">x2_medium ≤ 0.5</text>\r\n",
       "<text text-anchor=\"start\" x=\"190\" y=\"-156.8\" font-family=\"Helvetica,sans-Serif\" font-size=\"14.00\">gini = 0.09</text>\r\n",
       "<text text-anchor=\"start\" x=\"172\" y=\"-141.8\" font-family=\"Helvetica,sans-Serif\" font-size=\"14.00\">samples = 7.3%</text>\r\n",
       "<text text-anchor=\"start\" x=\"163\" y=\"-126.8\" font-family=\"Helvetica,sans-Serif\" font-size=\"14.00\">value = [0.95, 0.05]</text>\r\n",
       "<text text-anchor=\"start\" x=\"190\" y=\"-111.8\" font-family=\"Helvetica,sans-Serif\" font-size=\"14.00\">class = A1</text>\r\n",
       "</g>\r\n",
       "<!-- 3&#45;&gt;4 -->\r\n",
       "<g id=\"edge4\" class=\"edge\"><title>3&#45;&gt;4</title>\r\n",
       "<path fill=\"none\" stroke=\"black\" d=\"M387.853,-229.029C360.599,-215.344 329.116,-199.535 301.044,-185.438\"/>\r\n",
       "<polygon fill=\"black\" stroke=\"black\" points=\"302.566,-182.286 292.059,-180.927 299.425,-188.542 302.566,-182.286\"/>\r\n",
       "</g>\r\n",
       "<!-- 7 -->\r\n",
       "<g id=\"node8\" class=\"node\"><title>7</title>\r\n",
       "<path fill=\"#e68844\" stroke=\"black\" d=\"M513,-187C513,-187 400,-187 400,-187 394,-187 388,-181 388,-175 388,-175 388,-116 388,-116 388,-110 394,-104 400,-104 400,-104 513,-104 513,-104 519,-104 525,-110 525,-116 525,-116 525,-175 525,-175 525,-181 519,-187 513,-187\"/>\r\n",
       "<text text-anchor=\"start\" x=\"401.5\" y=\"-171.8\" font-family=\"Helvetica,sans-Serif\" font-size=\"14.00\">x2_medium ≤ 0.5</text>\r\n",
       "<text text-anchor=\"start\" x=\"427.5\" y=\"-156.8\" font-family=\"Helvetica,sans-Serif\" font-size=\"14.00\">gini = 0.1</text>\r\n",
       "<text text-anchor=\"start\" x=\"405\" y=\"-141.8\" font-family=\"Helvetica,sans-Serif\" font-size=\"14.00\">samples = 8.2%</text>\r\n",
       "<text text-anchor=\"start\" x=\"396\" y=\"-126.8\" font-family=\"Helvetica,sans-Serif\" font-size=\"14.00\">value = [0.95, 0.05]</text>\r\n",
       "<text text-anchor=\"start\" x=\"423\" y=\"-111.8\" font-family=\"Helvetica,sans-Serif\" font-size=\"14.00\">class = A1</text>\r\n",
       "</g>\r\n",
       "<!-- 3&#45;&gt;7 -->\r\n",
       "<g id=\"edge7\" class=\"edge\"><title>3&#45;&gt;7</title>\r\n",
       "<path fill=\"none\" stroke=\"black\" d=\"M456.5,-222.907C456.5,-214.649 456.5,-205.864 456.5,-197.302\"/>\r\n",
       "<polygon fill=\"black\" stroke=\"black\" points=\"460,-197.021 456.5,-187.021 453,-197.021 460,-197.021\"/>\r\n",
       "</g>\r\n",
       "<!-- 5 -->\r\n",
       "<g id=\"node6\" class=\"node\"><title>5</title>\r\n",
       "<path fill=\"#e68844\" stroke=\"black\" d=\"M125,-68C125,-68 12,-68 12,-68 6,-68 0,-62 0,-56 0,-56 0,-12 0,-12 0,-6 6,-0 12,-0 12,-0 125,-0 125,-0 131,-0 137,-6 137,-12 137,-12 137,-56 137,-56 137,-62 131,-68 125,-68\"/>\r\n",
       "<text text-anchor=\"start\" x=\"39.5\" y=\"-52.8\" font-family=\"Helvetica,sans-Serif\" font-size=\"14.00\">gini = 0.1</text>\r\n",
       "<text text-anchor=\"start\" x=\"17\" y=\"-37.8\" font-family=\"Helvetica,sans-Serif\" font-size=\"14.00\">samples = 4.8%</text>\r\n",
       "<text text-anchor=\"start\" x=\"8\" y=\"-22.8\" font-family=\"Helvetica,sans-Serif\" font-size=\"14.00\">value = [0.95, 0.05]</text>\r\n",
       "<text text-anchor=\"start\" x=\"35\" y=\"-7.8\" font-family=\"Helvetica,sans-Serif\" font-size=\"14.00\">class = A1</text>\r\n",
       "</g>\r\n",
       "<!-- 4&#45;&gt;5 -->\r\n",
       "<g id=\"edge5\" class=\"edge\"><title>4&#45;&gt;5</title>\r\n",
       "<path fill=\"none\" stroke=\"black\" d=\"M165.784,-103.726C152.098,-94.0582 137.531,-83.767 123.949,-74.172\"/>\r\n",
       "<polygon fill=\"black\" stroke=\"black\" points=\"125.823,-71.2109 115.636,-68.2996 121.784,-76.9282 125.823,-71.2109\"/>\r\n",
       "</g>\r\n",
       "<!-- 6 -->\r\n",
       "<g id=\"node7\" class=\"node\"><title>6</title>\r\n",
       "<path fill=\"#e68540\" stroke=\"black\" d=\"M280,-68C280,-68 167,-68 167,-68 161,-68 155,-62 155,-56 155,-56 155,-12 155,-12 155,-6 161,-0 167,-0 167,-0 280,-0 280,-0 286,-0 292,-6 292,-12 292,-12 292,-56 292,-56 292,-62 286,-68 280,-68\"/>\r\n",
       "<text text-anchor=\"start\" x=\"190\" y=\"-52.8\" font-family=\"Helvetica,sans-Serif\" font-size=\"14.00\">gini = 0.07</text>\r\n",
       "<text text-anchor=\"start\" x=\"172\" y=\"-37.8\" font-family=\"Helvetica,sans-Serif\" font-size=\"14.00\">samples = 2.4%</text>\r\n",
       "<text text-anchor=\"start\" x=\"163\" y=\"-22.8\" font-family=\"Helvetica,sans-Serif\" font-size=\"14.00\">value = [0.97, 0.03]</text>\r\n",
       "<text text-anchor=\"start\" x=\"190\" y=\"-7.8\" font-family=\"Helvetica,sans-Serif\" font-size=\"14.00\">class = A1</text>\r\n",
       "</g>\r\n",
       "<!-- 4&#45;&gt;6 -->\r\n",
       "<g id=\"edge6\" class=\"edge\"><title>4&#45;&gt;6</title>\r\n",
       "<path fill=\"none\" stroke=\"black\" d=\"M223.5,-103.726C223.5,-95.5175 223.5,-86.8595 223.5,-78.56\"/>\r\n",
       "<polygon fill=\"black\" stroke=\"black\" points=\"227,-78.2996 223.5,-68.2996 220,-78.2996 227,-78.2996\"/>\r\n",
       "</g>\r\n",
       "<!-- 8 -->\r\n",
       "<g id=\"node9\" class=\"node\"><title>8</title>\r\n",
       "<path fill=\"#e68743\" stroke=\"black\" d=\"M435,-68C435,-68 322,-68 322,-68 316,-68 310,-62 310,-56 310,-56 310,-12 310,-12 310,-6 316,-0 322,-0 322,-0 435,-0 435,-0 441,-0 447,-6 447,-12 447,-12 447,-56 447,-56 447,-62 441,-68 435,-68\"/>\r\n",
       "<text text-anchor=\"start\" x=\"345\" y=\"-52.8\" font-family=\"Helvetica,sans-Serif\" font-size=\"14.00\">gini = 0.09</text>\r\n",
       "<text text-anchor=\"start\" x=\"327\" y=\"-37.8\" font-family=\"Helvetica,sans-Serif\" font-size=\"14.00\">samples = 5.4%</text>\r\n",
       "<text text-anchor=\"start\" x=\"318\" y=\"-22.8\" font-family=\"Helvetica,sans-Serif\" font-size=\"14.00\">value = [0.95, 0.05]</text>\r\n",
       "<text text-anchor=\"start\" x=\"345\" y=\"-7.8\" font-family=\"Helvetica,sans-Serif\" font-size=\"14.00\">class = A1</text>\r\n",
       "</g>\r\n",
       "<!-- 7&#45;&gt;8 -->\r\n",
       "<g id=\"edge8\" class=\"edge\"><title>7&#45;&gt;8</title>\r\n",
       "<path fill=\"none\" stroke=\"black\" d=\"M427.456,-103.726C421.154,-94.879 414.48,-85.51 408.154,-76.6303\"/>\r\n",
       "<polygon fill=\"black\" stroke=\"black\" points=\"410.873,-74.4138 402.22,-68.2996 405.171,-78.4751 410.873,-74.4138\"/>\r\n",
       "</g>\r\n",
       "<!-- 9 -->\r\n",
       "<g id=\"node10\" class=\"node\"><title>9</title>\r\n",
       "<path fill=\"#e78a47\" stroke=\"black\" d=\"M590,-68C590,-68 477,-68 477,-68 471,-68 465,-62 465,-56 465,-56 465,-12 465,-12 465,-6 471,-0 477,-0 477,-0 590,-0 590,-0 596,-0 602,-6 602,-12 602,-12 602,-56 602,-56 602,-62 596,-68 590,-68\"/>\r\n",
       "<text text-anchor=\"start\" x=\"500\" y=\"-52.8\" font-family=\"Helvetica,sans-Serif\" font-size=\"14.00\">gini = 0.12</text>\r\n",
       "<text text-anchor=\"start\" x=\"482\" y=\"-37.8\" font-family=\"Helvetica,sans-Serif\" font-size=\"14.00\">samples = 2.9%</text>\r\n",
       "<text text-anchor=\"start\" x=\"473\" y=\"-22.8\" font-family=\"Helvetica,sans-Serif\" font-size=\"14.00\">value = [0.93, 0.07]</text>\r\n",
       "<text text-anchor=\"start\" x=\"500\" y=\"-7.8\" font-family=\"Helvetica,sans-Serif\" font-size=\"14.00\">class = A1</text>\r\n",
       "</g>\r\n",
       "<!-- 7&#45;&gt;9 -->\r\n",
       "<g id=\"edge9\" class=\"edge\"><title>7&#45;&gt;9</title>\r\n",
       "<path fill=\"none\" stroke=\"black\" d=\"M485.172,-103.726C491.393,-94.879 497.982,-85.51 504.226,-76.6303\"/>\r\n",
       "<polygon fill=\"black\" stroke=\"black\" points=\"507.195,-78.4929 510.084,-68.2996 501.469,-74.4664 507.195,-78.4929\"/>\r\n",
       "</g>\r\n",
       "<!-- 11 -->\r\n",
       "<g id=\"node12\" class=\"node\"><title>11</title>\r\n",
       "<path fill=\"#e5833c\" stroke=\"black\" d=\"M900,-187C900,-187 787,-187 787,-187 781,-187 775,-181 775,-175 775,-175 775,-116 775,-116 775,-110 781,-104 787,-104 787,-104 900,-104 900,-104 906,-104 912,-110 912,-116 912,-116 912,-175 912,-175 912,-181 906,-187 900,-187\"/>\r\n",
       "<text text-anchor=\"start\" x=\"805\" y=\"-171.8\" font-family=\"Helvetica,sans-Serif\" font-size=\"14.00\">x1_A1 ≤ 0.5</text>\r\n",
       "<text text-anchor=\"start\" x=\"810\" y=\"-156.8\" font-family=\"Helvetica,sans-Serif\" font-size=\"14.00\">gini = 0.03</text>\r\n",
       "<text text-anchor=\"start\" x=\"787.5\" y=\"-141.8\" font-family=\"Helvetica,sans-Serif\" font-size=\"14.00\">samples = 10.5%</text>\r\n",
       "<text text-anchor=\"start\" x=\"783\" y=\"-126.8\" font-family=\"Helvetica,sans-Serif\" font-size=\"14.00\">value = [0.98, 0.02]</text>\r\n",
       "<text text-anchor=\"start\" x=\"810\" y=\"-111.8\" font-family=\"Helvetica,sans-Serif\" font-size=\"14.00\">class = A1</text>\r\n",
       "</g>\r\n",
       "<!-- 10&#45;&gt;11 -->\r\n",
       "<g id=\"edge11\" class=\"edge\"><title>10&#45;&gt;11</title>\r\n",
       "<path fill=\"none\" stroke=\"black\" d=\"M894.438,-222.907C888.57,-214.105 882.302,-204.703 876.241,-195.612\"/>\r\n",
       "<polygon fill=\"black\" stroke=\"black\" points=\"878.973,-193.4 870.514,-187.021 873.149,-197.283 878.973,-193.4\"/>\r\n",
       "</g>\r\n",
       "<!-- 14 -->\r\n",
       "<g id=\"node15\" class=\"node\"><title>14</title>\r\n",
       "<path fill=\"#e68742\" stroke=\"black\" d=\"M1055,-187C1055,-187 942,-187 942,-187 936,-187 930,-181 930,-175 930,-175 930,-116 930,-116 930,-110 936,-104 942,-104 942,-104 1055,-104 1055,-104 1061,-104 1067,-110 1067,-116 1067,-116 1067,-175 1067,-175 1067,-181 1061,-187 1055,-187\"/>\r\n",
       "<text text-anchor=\"start\" x=\"960\" y=\"-171.8\" font-family=\"Helvetica,sans-Serif\" font-size=\"14.00\">x1_A1 ≤ 0.5</text>\r\n",
       "<text text-anchor=\"start\" x=\"965\" y=\"-156.8\" font-family=\"Helvetica,sans-Serif\" font-size=\"14.00\">gini = 0.08</text>\r\n",
       "<text text-anchor=\"start\" x=\"947\" y=\"-141.8\" font-family=\"Helvetica,sans-Serif\" font-size=\"14.00\">samples = 4.9%</text>\r\n",
       "<text text-anchor=\"start\" x=\"938\" y=\"-126.8\" font-family=\"Helvetica,sans-Serif\" font-size=\"14.00\">value = [0.96, 0.04]</text>\r\n",
       "<text text-anchor=\"start\" x=\"965\" y=\"-111.8\" font-family=\"Helvetica,sans-Serif\" font-size=\"14.00\">class = A1</text>\r\n",
       "</g>\r\n",
       "<!-- 10&#45;&gt;14 -->\r\n",
       "<g id=\"edge14\" class=\"edge\"><title>10&#45;&gt;14</title>\r\n",
       "<path fill=\"none\" stroke=\"black\" d=\"M948.215,-222.907C954.008,-214.105 960.195,-204.703 966.178,-195.612\"/>\r\n",
       "<polygon fill=\"black\" stroke=\"black\" points=\"969.259,-197.298 971.832,-187.021 963.411,-193.45 969.259,-197.298\"/>\r\n",
       "</g>\r\n",
       "<!-- 12 -->\r\n",
       "<g id=\"node13\" class=\"node\"><title>12</title>\r\n",
       "<path fill=\"#e5823a\" stroke=\"black\" d=\"M745,-68C745,-68 632,-68 632,-68 626,-68 620,-62 620,-56 620,-56 620,-12 620,-12 620,-6 626,-0 632,-0 632,-0 745,-0 745,-0 751,-0 757,-6 757,-12 757,-12 757,-56 757,-56 757,-62 751,-68 745,-68\"/>\r\n",
       "<text text-anchor=\"start\" x=\"655\" y=\"-52.8\" font-family=\"Helvetica,sans-Serif\" font-size=\"14.00\">gini = 0.01</text>\r\n",
       "<text text-anchor=\"start\" x=\"637\" y=\"-37.8\" font-family=\"Helvetica,sans-Serif\" font-size=\"14.00\">samples = 4.7%</text>\r\n",
       "<text text-anchor=\"start\" x=\"628\" y=\"-22.8\" font-family=\"Helvetica,sans-Serif\" font-size=\"14.00\">value = [0.99, 0.01]</text>\r\n",
       "<text text-anchor=\"start\" x=\"655\" y=\"-7.8\" font-family=\"Helvetica,sans-Serif\" font-size=\"14.00\">class = A1</text>\r\n",
       "</g>\r\n",
       "<!-- 11&#45;&gt;12 -->\r\n",
       "<g id=\"edge12\" class=\"edge\"><title>11&#45;&gt;12</title>\r\n",
       "<path fill=\"none\" stroke=\"black\" d=\"M785.784,-103.726C772.098,-94.0582 757.531,-83.767 743.949,-74.172\"/>\r\n",
       "<polygon fill=\"black\" stroke=\"black\" points=\"745.823,-71.2109 735.636,-68.2996 741.784,-76.9282 745.823,-71.2109\"/>\r\n",
       "</g>\r\n",
       "<!-- 13 -->\r\n",
       "<g id=\"node14\" class=\"node\"><title>13</title>\r\n",
       "<path fill=\"#e6843e\" stroke=\"black\" d=\"M900,-68C900,-68 787,-68 787,-68 781,-68 775,-62 775,-56 775,-56 775,-12 775,-12 775,-6 781,-0 787,-0 787,-0 900,-0 900,-0 906,-0 912,-6 912,-12 912,-12 912,-56 912,-56 912,-62 906,-68 900,-68\"/>\r\n",
       "<text text-anchor=\"start\" x=\"810\" y=\"-52.8\" font-family=\"Helvetica,sans-Serif\" font-size=\"14.00\">gini = 0.05</text>\r\n",
       "<text text-anchor=\"start\" x=\"792\" y=\"-37.8\" font-family=\"Helvetica,sans-Serif\" font-size=\"14.00\">samples = 5.8%</text>\r\n",
       "<text text-anchor=\"start\" x=\"783\" y=\"-22.8\" font-family=\"Helvetica,sans-Serif\" font-size=\"14.00\">value = [0.98, 0.02]</text>\r\n",
       "<text text-anchor=\"start\" x=\"810\" y=\"-7.8\" font-family=\"Helvetica,sans-Serif\" font-size=\"14.00\">class = A1</text>\r\n",
       "</g>\r\n",
       "<!-- 11&#45;&gt;13 -->\r\n",
       "<g id=\"edge13\" class=\"edge\"><title>11&#45;&gt;13</title>\r\n",
       "<path fill=\"none\" stroke=\"black\" d=\"M843.5,-103.726C843.5,-95.5175 843.5,-86.8595 843.5,-78.56\"/>\r\n",
       "<polygon fill=\"black\" stroke=\"black\" points=\"847,-78.2996 843.5,-68.2996 840,-78.2996 847,-78.2996\"/>\r\n",
       "</g>\r\n",
       "<!-- 15 -->\r\n",
       "<g id=\"node16\" class=\"node\"><title>15</title>\r\n",
       "<path fill=\"#e78c4b\" stroke=\"black\" d=\"M1055,-68C1055,-68 942,-68 942,-68 936,-68 930,-62 930,-56 930,-56 930,-12 930,-12 930,-6 936,-0 942,-0 942,-0 1055,-0 1055,-0 1061,-0 1067,-6 1067,-12 1067,-12 1067,-56 1067,-56 1067,-62 1061,-68 1055,-68\"/>\r\n",
       "<text text-anchor=\"start\" x=\"965\" y=\"-52.8\" font-family=\"Helvetica,sans-Serif\" font-size=\"14.00\">gini = 0.15</text>\r\n",
       "<text text-anchor=\"start\" x=\"947\" y=\"-37.8\" font-family=\"Helvetica,sans-Serif\" font-size=\"14.00\">samples = 2.0%</text>\r\n",
       "<text text-anchor=\"start\" x=\"938\" y=\"-22.8\" font-family=\"Helvetica,sans-Serif\" font-size=\"14.00\">value = [0.92, 0.08]</text>\r\n",
       "<text text-anchor=\"start\" x=\"965\" y=\"-7.8\" font-family=\"Helvetica,sans-Serif\" font-size=\"14.00\">class = A1</text>\r\n",
       "</g>\r\n",
       "<!-- 14&#45;&gt;15 -->\r\n",
       "<g id=\"edge15\" class=\"edge\"><title>14&#45;&gt;15</title>\r\n",
       "<path fill=\"none\" stroke=\"black\" d=\"M998.5,-103.726C998.5,-95.5175 998.5,-86.8595 998.5,-78.56\"/>\r\n",
       "<polygon fill=\"black\" stroke=\"black\" points=\"1002,-78.2996 998.5,-68.2996 995,-78.2996 1002,-78.2996\"/>\r\n",
       "</g>\r\n",
       "<!-- 16 -->\r\n",
       "<g id=\"node17\" class=\"node\"><title>16</title>\r\n",
       "<path fill=\"#e5833d\" stroke=\"black\" d=\"M1210,-68C1210,-68 1097,-68 1097,-68 1091,-68 1085,-62 1085,-56 1085,-56 1085,-12 1085,-12 1085,-6 1091,-0 1097,-0 1097,-0 1210,-0 1210,-0 1216,-0 1222,-6 1222,-12 1222,-12 1222,-56 1222,-56 1222,-62 1216,-68 1210,-68\"/>\r\n",
       "<text text-anchor=\"start\" x=\"1120\" y=\"-52.8\" font-family=\"Helvetica,sans-Serif\" font-size=\"14.00\">gini = 0.04</text>\r\n",
       "<text text-anchor=\"start\" x=\"1102\" y=\"-37.8\" font-family=\"Helvetica,sans-Serif\" font-size=\"14.00\">samples = 3.0%</text>\r\n",
       "<text text-anchor=\"start\" x=\"1093\" y=\"-22.8\" font-family=\"Helvetica,sans-Serif\" font-size=\"14.00\">value = [0.98, 0.02]</text>\r\n",
       "<text text-anchor=\"start\" x=\"1120\" y=\"-7.8\" font-family=\"Helvetica,sans-Serif\" font-size=\"14.00\">class = A1</text>\r\n",
       "</g>\r\n",
       "<!-- 14&#45;&gt;16 -->\r\n",
       "<g id=\"edge16\" class=\"edge\"><title>14&#45;&gt;16</title>\r\n",
       "<path fill=\"none\" stroke=\"black\" d=\"M1056.22,-103.726C1069.9,-94.0582 1084.47,-83.767 1098.05,-74.172\"/>\r\n",
       "<polygon fill=\"black\" stroke=\"black\" points=\"1100.22,-76.9282 1106.36,-68.2996 1096.18,-71.2109 1100.22,-76.9282\"/>\r\n",
       "</g>\r\n",
       "<!-- 18 -->\r\n",
       "<g id=\"node19\" class=\"node\"><title>18</title>\r\n",
       "<path fill=\"#e99559\" stroke=\"black\" d=\"M1752,-306C1752,-306 1639,-306 1639,-306 1633,-306 1627,-300 1627,-294 1627,-294 1627,-235 1627,-235 1627,-229 1633,-223 1639,-223 1639,-223 1752,-223 1752,-223 1758,-223 1764,-229 1764,-235 1764,-235 1764,-294 1764,-294 1764,-300 1758,-306 1752,-306\"/>\r\n",
       "<text text-anchor=\"start\" x=\"1657\" y=\"-290.8\" font-family=\"Helvetica,sans-Serif\" font-size=\"14.00\">x0_A1 ≤ 0.5</text>\r\n",
       "<text text-anchor=\"start\" x=\"1662\" y=\"-275.8\" font-family=\"Helvetica,sans-Serif\" font-size=\"14.00\">gini = 0.24</text>\r\n",
       "<text text-anchor=\"start\" x=\"1639.5\" y=\"-260.8\" font-family=\"Helvetica,sans-Serif\" font-size=\"14.00\">samples = 11.4%</text>\r\n",
       "<text text-anchor=\"start\" x=\"1635\" y=\"-245.8\" font-family=\"Helvetica,sans-Serif\" font-size=\"14.00\">value = [0.86, 0.14]</text>\r\n",
       "<text text-anchor=\"start\" x=\"1662\" y=\"-230.8\" font-family=\"Helvetica,sans-Serif\" font-size=\"14.00\">class = A1</text>\r\n",
       "</g>\r\n",
       "<!-- 17&#45;&gt;18 -->\r\n",
       "<g id=\"edge18\" class=\"edge\"><title>17&#45;&gt;18</title>\r\n",
       "<path fill=\"none\" stroke=\"black\" d=\"M1820.89,-341.907C1804.65,-332.016 1787.18,-321.368 1770.58,-311.254\"/>\r\n",
       "<polygon fill=\"black\" stroke=\"black\" points=\"1772.36,-308.236 1762,-306.021 1768.71,-314.213 1772.36,-308.236\"/>\r\n",
       "</g>\r\n",
       "<!-- 25 -->\r\n",
       "<g id=\"node26\" class=\"node\"><title>25</title>\r\n",
       "<path fill=\"#eb9f69\" stroke=\"black\" d=\"M2059,-306C2059,-306 1946,-306 1946,-306 1940,-306 1934,-300 1934,-294 1934,-294 1934,-235 1934,-235 1934,-229 1940,-223 1946,-223 1946,-223 2059,-223 2059,-223 2065,-223 2071,-229 2071,-235 2071,-235 2071,-294 2071,-294 2071,-300 2065,-306 2059,-306\"/>\r\n",
       "<text text-anchor=\"start\" x=\"1964\" y=\"-290.8\" font-family=\"Helvetica,sans-Serif\" font-size=\"14.00\">x1_A1 ≤ 0.5</text>\r\n",
       "<text text-anchor=\"start\" x=\"1969\" y=\"-275.8\" font-family=\"Helvetica,sans-Serif\" font-size=\"14.00\">gini = 0.31</text>\r\n",
       "<text text-anchor=\"start\" x=\"1951\" y=\"-260.8\" font-family=\"Helvetica,sans-Serif\" font-size=\"14.00\">samples = 2.5%</text>\r\n",
       "<text text-anchor=\"start\" x=\"1942\" y=\"-245.8\" font-family=\"Helvetica,sans-Serif\" font-size=\"14.00\">value = [0.81, 0.19]</text>\r\n",
       "<text text-anchor=\"start\" x=\"1969\" y=\"-230.8\" font-family=\"Helvetica,sans-Serif\" font-size=\"14.00\">class = A1</text>\r\n",
       "</g>\r\n",
       "<!-- 17&#45;&gt;25 -->\r\n",
       "<g id=\"edge25\" class=\"edge\"><title>17&#45;&gt;25</title>\r\n",
       "<path fill=\"none\" stroke=\"black\" d=\"M1927.4,-341.907C1936.5,-332.651 1946.25,-322.732 1955.61,-313.209\"/>\r\n",
       "<polygon fill=\"black\" stroke=\"black\" points=\"1958.16,-315.606 1962.67,-306.021 1953.17,-310.699 1958.16,-315.606\"/>\r\n",
       "</g>\r\n",
       "<!-- 19 -->\r\n",
       "<g id=\"node20\" class=\"node\"><title>19</title>\r\n",
       "<path fill=\"#ea985d\" stroke=\"black\" d=\"M1520,-187C1520,-187 1407,-187 1407,-187 1401,-187 1395,-181 1395,-175 1395,-175 1395,-116 1395,-116 1395,-110 1401,-104 1407,-104 1407,-104 1520,-104 1520,-104 1526,-104 1532,-110 1532,-116 1532,-116 1532,-175 1532,-175 1532,-181 1526,-187 1520,-187\"/>\r\n",
       "<text text-anchor=\"start\" x=\"1425\" y=\"-171.8\" font-family=\"Helvetica,sans-Serif\" font-size=\"14.00\">x1_A1 ≤ 0.5</text>\r\n",
       "<text text-anchor=\"start\" x=\"1430\" y=\"-156.8\" font-family=\"Helvetica,sans-Serif\" font-size=\"14.00\">gini = 0.26</text>\r\n",
       "<text text-anchor=\"start\" x=\"1412\" y=\"-141.8\" font-family=\"Helvetica,sans-Serif\" font-size=\"14.00\">samples = 5.5%</text>\r\n",
       "<text text-anchor=\"start\" x=\"1403\" y=\"-126.8\" font-family=\"Helvetica,sans-Serif\" font-size=\"14.00\">value = [0.85, 0.15]</text>\r\n",
       "<text text-anchor=\"start\" x=\"1430\" y=\"-111.8\" font-family=\"Helvetica,sans-Serif\" font-size=\"14.00\">class = A1</text>\r\n",
       "</g>\r\n",
       "<!-- 18&#45;&gt;19 -->\r\n",
       "<g id=\"edge19\" class=\"edge\"><title>18&#45;&gt;19</title>\r\n",
       "<path fill=\"none\" stroke=\"black\" d=\"M1626.83,-228.871C1600.06,-215.371 1569.23,-199.823 1541.62,-185.897\"/>\r\n",
       "<polygon fill=\"black\" stroke=\"black\" points=\"1542.9,-182.62 1532.39,-181.242 1539.74,-188.87 1542.9,-182.62\"/>\r\n",
       "</g>\r\n",
       "<!-- 22 -->\r\n",
       "<g id=\"node23\" class=\"node\"><title>22</title>\r\n",
       "<path fill=\"#e99356\" stroke=\"black\" d=\"M1752,-187C1752,-187 1639,-187 1639,-187 1633,-187 1627,-181 1627,-175 1627,-175 1627,-116 1627,-116 1627,-110 1633,-104 1639,-104 1639,-104 1752,-104 1752,-104 1758,-104 1764,-110 1764,-116 1764,-116 1764,-175 1764,-175 1764,-181 1758,-187 1752,-187\"/>\r\n",
       "<text text-anchor=\"start\" x=\"1657\" y=\"-171.8\" font-family=\"Helvetica,sans-Serif\" font-size=\"14.00\">x1_A1 ≤ 0.5</text>\r\n",
       "<text text-anchor=\"start\" x=\"1662\" y=\"-156.8\" font-family=\"Helvetica,sans-Serif\" font-size=\"14.00\">gini = 0.22</text>\r\n",
       "<text text-anchor=\"start\" x=\"1644\" y=\"-141.8\" font-family=\"Helvetica,sans-Serif\" font-size=\"14.00\">samples = 5.8%</text>\r\n",
       "<text text-anchor=\"start\" x=\"1635\" y=\"-126.8\" font-family=\"Helvetica,sans-Serif\" font-size=\"14.00\">value = [0.87, 0.13]</text>\r\n",
       "<text text-anchor=\"start\" x=\"1662\" y=\"-111.8\" font-family=\"Helvetica,sans-Serif\" font-size=\"14.00\">class = A1</text>\r\n",
       "</g>\r\n",
       "<!-- 18&#45;&gt;22 -->\r\n",
       "<g id=\"edge22\" class=\"edge\"><title>18&#45;&gt;22</title>\r\n",
       "<path fill=\"none\" stroke=\"black\" d=\"M1695.5,-222.907C1695.5,-214.649 1695.5,-205.864 1695.5,-197.302\"/>\r\n",
       "<polygon fill=\"black\" stroke=\"black\" points=\"1699,-197.021 1695.5,-187.021 1692,-197.021 1699,-197.021\"/>\r\n",
       "</g>\r\n",
       "<!-- 20 -->\r\n",
       "<g id=\"node21\" class=\"node\"><title>20</title>\r\n",
       "<path fill=\"#e89051\" stroke=\"black\" d=\"M1365,-68C1365,-68 1252,-68 1252,-68 1246,-68 1240,-62 1240,-56 1240,-56 1240,-12 1240,-12 1240,-6 1246,-0 1252,-0 1252,-0 1365,-0 1365,-0 1371,-0 1377,-6 1377,-12 1377,-12 1377,-56 1377,-56 1377,-62 1371,-68 1365,-68\"/>\r\n",
       "<text text-anchor=\"start\" x=\"1275\" y=\"-52.8\" font-family=\"Helvetica,sans-Serif\" font-size=\"14.00\">gini = 0.19</text>\r\n",
       "<text text-anchor=\"start\" x=\"1257\" y=\"-37.8\" font-family=\"Helvetica,sans-Serif\" font-size=\"14.00\">samples = 1.8%</text>\r\n",
       "<text text-anchor=\"start\" x=\"1248\" y=\"-22.8\" font-family=\"Helvetica,sans-Serif\" font-size=\"14.00\">value = [0.89, 0.11]</text>\r\n",
       "<text text-anchor=\"start\" x=\"1275\" y=\"-7.8\" font-family=\"Helvetica,sans-Serif\" font-size=\"14.00\">class = A1</text>\r\n",
       "</g>\r\n",
       "<!-- 19&#45;&gt;20 -->\r\n",
       "<g id=\"edge20\" class=\"edge\"><title>19&#45;&gt;20</title>\r\n",
       "<path fill=\"none\" stroke=\"black\" d=\"M1405.78,-103.726C1392.1,-94.0582 1377.53,-83.767 1363.95,-74.172\"/>\r\n",
       "<polygon fill=\"black\" stroke=\"black\" points=\"1365.82,-71.2109 1355.64,-68.2996 1361.78,-76.9282 1365.82,-71.2109\"/>\r\n",
       "</g>\r\n",
       "<!-- 21 -->\r\n",
       "<g id=\"node22\" class=\"node\"><title>21</title>\r\n",
       "<path fill=\"#ea9c63\" stroke=\"black\" d=\"M1520,-68C1520,-68 1407,-68 1407,-68 1401,-68 1395,-62 1395,-56 1395,-56 1395,-12 1395,-12 1395,-6 1401,-0 1407,-0 1407,-0 1520,-0 1520,-0 1526,-0 1532,-6 1532,-12 1532,-12 1532,-56 1532,-56 1532,-62 1526,-68 1520,-68\"/>\r\n",
       "<text text-anchor=\"start\" x=\"1430\" y=\"-52.8\" font-family=\"Helvetica,sans-Serif\" font-size=\"14.00\">gini = 0.29</text>\r\n",
       "<text text-anchor=\"start\" x=\"1412\" y=\"-37.8\" font-family=\"Helvetica,sans-Serif\" font-size=\"14.00\">samples = 3.8%</text>\r\n",
       "<text text-anchor=\"start\" x=\"1403\" y=\"-22.8\" font-family=\"Helvetica,sans-Serif\" font-size=\"14.00\">value = [0.83, 0.17]</text>\r\n",
       "<text text-anchor=\"start\" x=\"1430\" y=\"-7.8\" font-family=\"Helvetica,sans-Serif\" font-size=\"14.00\">class = A1</text>\r\n",
       "</g>\r\n",
       "<!-- 19&#45;&gt;21 -->\r\n",
       "<g id=\"edge21\" class=\"edge\"><title>19&#45;&gt;21</title>\r\n",
       "<path fill=\"none\" stroke=\"black\" d=\"M1463.5,-103.726C1463.5,-95.5175 1463.5,-86.8595 1463.5,-78.56\"/>\r\n",
       "<polygon fill=\"black\" stroke=\"black\" points=\"1467,-78.2996 1463.5,-68.2996 1460,-78.2996 1467,-78.2996\"/>\r\n",
       "</g>\r\n",
       "<!-- 23 -->\r\n",
       "<g id=\"node24\" class=\"node\"><title>23</title>\r\n",
       "<path fill=\"#e9965a\" stroke=\"black\" d=\"M1675,-68C1675,-68 1562,-68 1562,-68 1556,-68 1550,-62 1550,-56 1550,-56 1550,-12 1550,-12 1550,-6 1556,-0 1562,-0 1562,-0 1675,-0 1675,-0 1681,-0 1687,-6 1687,-12 1687,-12 1687,-56 1687,-56 1687,-62 1681,-68 1675,-68\"/>\r\n",
       "<text text-anchor=\"start\" x=\"1585\" y=\"-52.8\" font-family=\"Helvetica,sans-Serif\" font-size=\"14.00\">gini = 0.24</text>\r\n",
       "<text text-anchor=\"start\" x=\"1567\" y=\"-37.8\" font-family=\"Helvetica,sans-Serif\" font-size=\"14.00\">samples = 1.7%</text>\r\n",
       "<text text-anchor=\"start\" x=\"1558\" y=\"-22.8\" font-family=\"Helvetica,sans-Serif\" font-size=\"14.00\">value = [0.86, 0.14]</text>\r\n",
       "<text text-anchor=\"start\" x=\"1585\" y=\"-7.8\" font-family=\"Helvetica,sans-Serif\" font-size=\"14.00\">class = A1</text>\r\n",
       "</g>\r\n",
       "<!-- 22&#45;&gt;23 -->\r\n",
       "<g id=\"edge23\" class=\"edge\"><title>22&#45;&gt;23</title>\r\n",
       "<path fill=\"none\" stroke=\"black\" d=\"M1666.83,-103.726C1660.61,-94.879 1654.02,-85.51 1647.77,-76.6303\"/>\r\n",
       "<polygon fill=\"black\" stroke=\"black\" points=\"1650.53,-74.4664 1641.92,-68.2996 1644.81,-78.4929 1650.53,-74.4664\"/>\r\n",
       "</g>\r\n",
       "<!-- 24 -->\r\n",
       "<g id=\"node25\" class=\"node\"><title>24</title>\r\n",
       "<path fill=\"#e99254\" stroke=\"black\" d=\"M1830,-68C1830,-68 1717,-68 1717,-68 1711,-68 1705,-62 1705,-56 1705,-56 1705,-12 1705,-12 1705,-6 1711,-0 1717,-0 1717,-0 1830,-0 1830,-0 1836,-0 1842,-6 1842,-12 1842,-12 1842,-56 1842,-56 1842,-62 1836,-68 1830,-68\"/>\r\n",
       "<text text-anchor=\"start\" x=\"1740\" y=\"-52.8\" font-family=\"Helvetica,sans-Serif\" font-size=\"14.00\">gini = 0.21</text>\r\n",
       "<text text-anchor=\"start\" x=\"1722\" y=\"-37.8\" font-family=\"Helvetica,sans-Serif\" font-size=\"14.00\">samples = 4.1%</text>\r\n",
       "<text text-anchor=\"start\" x=\"1713\" y=\"-22.8\" font-family=\"Helvetica,sans-Serif\" font-size=\"14.00\">value = [0.88, 0.12]</text>\r\n",
       "<text text-anchor=\"start\" x=\"1740\" y=\"-7.8\" font-family=\"Helvetica,sans-Serif\" font-size=\"14.00\">class = A1</text>\r\n",
       "</g>\r\n",
       "<!-- 22&#45;&gt;24 -->\r\n",
       "<g id=\"edge24\" class=\"edge\"><title>22&#45;&gt;24</title>\r\n",
       "<path fill=\"none\" stroke=\"black\" d=\"M1724.54,-103.726C1730.85,-94.879 1737.52,-85.51 1743.85,-76.6303\"/>\r\n",
       "<polygon fill=\"black\" stroke=\"black\" points=\"1746.83,-78.4751 1749.78,-68.2996 1741.13,-74.4138 1746.83,-78.4751\"/>\r\n",
       "</g>\r\n",
       "<!-- 26 -->\r\n",
       "<g id=\"node27\" class=\"node\"><title>26</title>\r\n",
       "<path fill=\"#eeae80\" stroke=\"black\" d=\"M2059,-187C2059,-187 1946,-187 1946,-187 1940,-187 1934,-181 1934,-175 1934,-175 1934,-116 1934,-116 1934,-110 1940,-104 1946,-104 1946,-104 2059,-104 2059,-104 2065,-104 2071,-110 2071,-116 2071,-116 2071,-175 2071,-175 2071,-181 2065,-187 2059,-187\"/>\r\n",
       "<text text-anchor=\"start\" x=\"1964\" y=\"-171.8\" font-family=\"Helvetica,sans-Serif\" font-size=\"14.00\">x0_A1 ≤ 0.5</text>\r\n",
       "<text text-anchor=\"start\" x=\"1969\" y=\"-156.8\" font-family=\"Helvetica,sans-Serif\" font-size=\"14.00\">gini = 0.39</text>\r\n",
       "<text text-anchor=\"start\" x=\"1951\" y=\"-141.8\" font-family=\"Helvetica,sans-Serif\" font-size=\"14.00\">samples = 0.9%</text>\r\n",
       "<text text-anchor=\"start\" x=\"1942\" y=\"-126.8\" font-family=\"Helvetica,sans-Serif\" font-size=\"14.00\">value = [0.74, 0.26]</text>\r\n",
       "<text text-anchor=\"start\" x=\"1969\" y=\"-111.8\" font-family=\"Helvetica,sans-Serif\" font-size=\"14.00\">class = A1</text>\r\n",
       "</g>\r\n",
       "<!-- 25&#45;&gt;26 -->\r\n",
       "<g id=\"edge26\" class=\"edge\"><title>25&#45;&gt;26</title>\r\n",
       "<path fill=\"none\" stroke=\"black\" d=\"M2002.5,-222.907C2002.5,-214.649 2002.5,-205.864 2002.5,-197.302\"/>\r\n",
       "<polygon fill=\"black\" stroke=\"black\" points=\"2006,-197.021 2002.5,-187.021 1999,-197.021 2006,-197.021\"/>\r\n",
       "</g>\r\n",
       "<!-- 29 -->\r\n",
       "<g id=\"node30\" class=\"node\"><title>29</title>\r\n",
       "<path fill=\"#ea985d\" stroke=\"black\" d=\"M2287,-187C2287,-187 2174,-187 2174,-187 2168,-187 2162,-181 2162,-175 2162,-175 2162,-116 2162,-116 2162,-110 2168,-104 2174,-104 2174,-104 2287,-104 2287,-104 2293,-104 2299,-110 2299,-116 2299,-116 2299,-175 2299,-175 2299,-181 2293,-187 2287,-187\"/>\r\n",
       "<text text-anchor=\"start\" x=\"2192\" y=\"-171.8\" font-family=\"Helvetica,sans-Serif\" font-size=\"14.00\">x0_A1 ≤ 0.5</text>\r\n",
       "<text text-anchor=\"start\" x=\"2197\" y=\"-156.8\" font-family=\"Helvetica,sans-Serif\" font-size=\"14.00\">gini = 0.26</text>\r\n",
       "<text text-anchor=\"start\" x=\"2179\" y=\"-141.8\" font-family=\"Helvetica,sans-Serif\" font-size=\"14.00\">samples = 1.6%</text>\r\n",
       "<text text-anchor=\"start\" x=\"2170\" y=\"-126.8\" font-family=\"Helvetica,sans-Serif\" font-size=\"14.00\">value = [0.85, 0.15]</text>\r\n",
       "<text text-anchor=\"start\" x=\"2197\" y=\"-111.8\" font-family=\"Helvetica,sans-Serif\" font-size=\"14.00\">class = A1</text>\r\n",
       "</g>\r\n",
       "<!-- 25&#45;&gt;29 -->\r\n",
       "<g id=\"edge29\" class=\"edge\"><title>25&#45;&gt;29</title>\r\n",
       "<path fill=\"none\" stroke=\"black\" d=\"M2071.22,-228.237C2096.9,-215.056 2126.25,-199.996 2152.7,-186.423\"/>\r\n",
       "<polygon fill=\"black\" stroke=\"black\" points=\"2154.63,-189.37 2161.92,-181.69 2151.43,-183.142 2154.63,-189.37\"/>\r\n",
       "</g>\r\n",
       "<!-- 27 -->\r\n",
       "<g id=\"node28\" class=\"node\"><title>27</title>\r\n",
       "<path fill=\"#eca572\" stroke=\"black\" d=\"M1985,-68C1985,-68 1872,-68 1872,-68 1866,-68 1860,-62 1860,-56 1860,-56 1860,-12 1860,-12 1860,-6 1866,-0 1872,-0 1872,-0 1985,-0 1985,-0 1991,-0 1997,-6 1997,-12 1997,-12 1997,-56 1997,-56 1997,-62 1991,-68 1985,-68\"/>\r\n",
       "<text text-anchor=\"start\" x=\"1895\" y=\"-52.8\" font-family=\"Helvetica,sans-Serif\" font-size=\"14.00\">gini = 0.35</text>\r\n",
       "<text text-anchor=\"start\" x=\"1877\" y=\"-37.8\" font-family=\"Helvetica,sans-Serif\" font-size=\"14.00\">samples = 0.5%</text>\r\n",
       "<text text-anchor=\"start\" x=\"1868\" y=\"-22.8\" font-family=\"Helvetica,sans-Serif\" font-size=\"14.00\">value = [0.78, 0.22]</text>\r\n",
       "<text text-anchor=\"start\" x=\"1895\" y=\"-7.8\" font-family=\"Helvetica,sans-Serif\" font-size=\"14.00\">class = A1</text>\r\n",
       "</g>\r\n",
       "<!-- 26&#45;&gt;27 -->\r\n",
       "<g id=\"edge27\" class=\"edge\"><title>26&#45;&gt;27</title>\r\n",
       "<path fill=\"none\" stroke=\"black\" d=\"M1974.95,-103.726C1968.97,-94.879 1962.63,-85.51 1956.63,-76.6303\"/>\r\n",
       "<polygon fill=\"black\" stroke=\"black\" points=\"1959.5,-74.6253 1951,-68.2996 1953.7,-78.5448 1959.5,-74.6253\"/>\r\n",
       "</g>\r\n",
       "<!-- 28 -->\r\n",
       "<g id=\"node29\" class=\"node\"><title>28</title>\r\n",
       "<path fill=\"#f1ba93\" stroke=\"black\" d=\"M2140,-68C2140,-68 2027,-68 2027,-68 2021,-68 2015,-62 2015,-56 2015,-56 2015,-12 2015,-12 2015,-6 2021,-0 2027,-0 2027,-0 2140,-0 2140,-0 2146,-0 2152,-6 2152,-12 2152,-12 2152,-56 2152,-56 2152,-62 2146,-68 2140,-68\"/>\r\n",
       "<text text-anchor=\"start\" x=\"2050\" y=\"-52.8\" font-family=\"Helvetica,sans-Serif\" font-size=\"14.00\">gini = 0.43</text>\r\n",
       "<text text-anchor=\"start\" x=\"2032\" y=\"-37.8\" font-family=\"Helvetica,sans-Serif\" font-size=\"14.00\">samples = 0.4%</text>\r\n",
       "<text text-anchor=\"start\" x=\"2023\" y=\"-22.8\" font-family=\"Helvetica,sans-Serif\" font-size=\"14.00\">value = [0.69, 0.31]</text>\r\n",
       "<text text-anchor=\"start\" x=\"2050\" y=\"-7.8\" font-family=\"Helvetica,sans-Serif\" font-size=\"14.00\">class = A1</text>\r\n",
       "</g>\r\n",
       "<!-- 26&#45;&gt;28 -->\r\n",
       "<g id=\"edge28\" class=\"edge\"><title>26&#45;&gt;28</title>\r\n",
       "<path fill=\"none\" stroke=\"black\" d=\"M2032.66,-103.726C2039.27,-94.7878 2046.28,-85.3168 2052.91,-76.3558\"/>\r\n",
       "<polygon fill=\"black\" stroke=\"black\" points=\"2055.73,-78.4206 2058.87,-68.2996 2050.11,-74.2576 2055.73,-78.4206\"/>\r\n",
       "</g>\r\n",
       "<!-- 30 -->\r\n",
       "<g id=\"node31\" class=\"node\"><title>30</title>\r\n",
       "<path fill=\"#e89050\" stroke=\"black\" d=\"M2279,-68C2279,-68 2182,-68 2182,-68 2176,-68 2170,-62 2170,-56 2170,-56 2170,-12 2170,-12 2170,-6 2176,-0 2182,-0 2182,-0 2279,-0 2279,-0 2285,-0 2291,-6 2291,-12 2291,-12 2291,-56 2291,-56 2291,-62 2285,-68 2279,-68\"/>\r\n",
       "<text text-anchor=\"start\" x=\"2197\" y=\"-52.8\" font-family=\"Helvetica,sans-Serif\" font-size=\"14.00\">gini = 0.19</text>\r\n",
       "<text text-anchor=\"start\" x=\"2179\" y=\"-37.8\" font-family=\"Helvetica,sans-Serif\" font-size=\"14.00\">samples = 0.8%</text>\r\n",
       "<text text-anchor=\"start\" x=\"2178\" y=\"-22.8\" font-family=\"Helvetica,sans-Serif\" font-size=\"14.00\">value = [0.9, 0.1]</text>\r\n",
       "<text text-anchor=\"start\" x=\"2197\" y=\"-7.8\" font-family=\"Helvetica,sans-Serif\" font-size=\"14.00\">class = A1</text>\r\n",
       "</g>\r\n",
       "<!-- 29&#45;&gt;30 -->\r\n",
       "<g id=\"edge30\" class=\"edge\"><title>29&#45;&gt;30</title>\r\n",
       "<path fill=\"none\" stroke=\"black\" d=\"M2230.5,-103.726C2230.5,-95.5175 2230.5,-86.8595 2230.5,-78.56\"/>\r\n",
       "<polygon fill=\"black\" stroke=\"black\" points=\"2234,-78.2996 2230.5,-68.2996 2227,-78.2996 2234,-78.2996\"/>\r\n",
       "</g>\r\n",
       "<!-- 31 -->\r\n",
       "<g id=\"node32\" class=\"node\"><title>31</title>\r\n",
       "<path fill=\"#eca06a\" stroke=\"black\" d=\"M2418,-68C2418,-68 2321,-68 2321,-68 2315,-68 2309,-62 2309,-56 2309,-56 2309,-12 2309,-12 2309,-6 2315,-0 2321,-0 2321,-0 2418,-0 2418,-0 2424,-0 2430,-6 2430,-12 2430,-12 2430,-56 2430,-56 2430,-62 2424,-68 2418,-68\"/>\r\n",
       "<text text-anchor=\"start\" x=\"2336\" y=\"-52.8\" font-family=\"Helvetica,sans-Serif\" font-size=\"14.00\">gini = 0.32</text>\r\n",
       "<text text-anchor=\"start\" x=\"2318\" y=\"-37.8\" font-family=\"Helvetica,sans-Serif\" font-size=\"14.00\">samples = 0.8%</text>\r\n",
       "<text text-anchor=\"start\" x=\"2317\" y=\"-22.8\" font-family=\"Helvetica,sans-Serif\" font-size=\"14.00\">value = [0.8, 0.2]</text>\r\n",
       "<text text-anchor=\"start\" x=\"2336\" y=\"-7.8\" font-family=\"Helvetica,sans-Serif\" font-size=\"14.00\">class = A1</text>\r\n",
       "</g>\r\n",
       "<!-- 29&#45;&gt;31 -->\r\n",
       "<g id=\"edge31\" class=\"edge\"><title>29&#45;&gt;31</title>\r\n",
       "<path fill=\"none\" stroke=\"black\" d=\"M2282.26,-103.726C2294.3,-94.2406 2307.1,-84.1551 2319.08,-74.7159\"/>\r\n",
       "<polygon fill=\"black\" stroke=\"black\" points=\"2321.54,-77.2372 2327.23,-68.2996 2317.21,-71.7385 2321.54,-77.2372\"/>\r\n",
       "</g>\r\n",
       "<!-- 33 -->\r\n",
       "<g id=\"node34\" class=\"node\"><title>33</title>\r\n",
       "<path fill=\"#f0b58a\" stroke=\"black\" d=\"M3116,-425C3116,-425 3003,-425 3003,-425 2997,-425 2991,-419 2991,-413 2991,-413 2991,-354 2991,-354 2991,-348 2997,-342 3003,-342 3003,-342 3116,-342 3116,-342 3122,-342 3128,-348 3128,-354 3128,-354 3128,-413 3128,-413 3128,-419 3122,-425 3116,-425\"/>\r\n",
       "<text text-anchor=\"start\" x=\"3004.5\" y=\"-409.8\" font-family=\"Helvetica,sans-Serif\" font-size=\"14.00\">x2_medium ≤ 0.5</text>\r\n",
       "<text text-anchor=\"start\" x=\"3026\" y=\"-394.8\" font-family=\"Helvetica,sans-Serif\" font-size=\"14.00\">gini = 0.41</text>\r\n",
       "<text text-anchor=\"start\" x=\"3003.5\" y=\"-379.8\" font-family=\"Helvetica,sans-Serif\" font-size=\"14.00\">samples = 25.0%</text>\r\n",
       "<text text-anchor=\"start\" x=\"2999\" y=\"-364.8\" font-family=\"Helvetica,sans-Serif\" font-size=\"14.00\">value = [0.71, 0.29]</text>\r\n",
       "<text text-anchor=\"start\" x=\"3026\" y=\"-349.8\" font-family=\"Helvetica,sans-Serif\" font-size=\"14.00\">class = A1</text>\r\n",
       "</g>\r\n",
       "<!-- 32&#45;&gt;33 -->\r\n",
       "<g id=\"edge33\" class=\"edge\"><title>32&#45;&gt;33</title>\r\n",
       "<path fill=\"none\" stroke=\"black\" d=\"M3059.5,-460.907C3059.5,-452.649 3059.5,-443.864 3059.5,-435.302\"/>\r\n",
       "<polygon fill=\"black\" stroke=\"black\" points=\"3063,-435.021 3059.5,-425.021 3056,-435.021 3063,-435.021\"/>\r\n",
       "</g>\r\n",
       "<!-- 48 -->\r\n",
       "<g id=\"node49\" class=\"node\"><title>48</title>\r\n",
       "<path fill=\"#e2f1fb\" stroke=\"black\" d=\"M4033,-425C4033,-425 3920,-425 3920,-425 3914,-425 3908,-419 3908,-413 3908,-413 3908,-354 3908,-354 3908,-348 3914,-342 3920,-342 3920,-342 4033,-342 4033,-342 4039,-342 4045,-348 4045,-354 4045,-354 4045,-413 4045,-413 4045,-419 4039,-425 4033,-425\"/>\r\n",
       "<text text-anchor=\"start\" x=\"3921.5\" y=\"-409.8\" font-family=\"Helvetica,sans-Serif\" font-size=\"14.00\">x2_medium ≤ 0.5</text>\r\n",
       "<text text-anchor=\"start\" x=\"3947.5\" y=\"-394.8\" font-family=\"Helvetica,sans-Serif\" font-size=\"14.00\">gini = 0.5</text>\r\n",
       "<text text-anchor=\"start\" x=\"3920.5\" y=\"-379.8\" font-family=\"Helvetica,sans-Serif\" font-size=\"14.00\">samples = 30.2%</text>\r\n",
       "<text text-anchor=\"start\" x=\"3916\" y=\"-364.8\" font-family=\"Helvetica,sans-Serif\" font-size=\"14.00\">value = [0.46, 0.54]</text>\r\n",
       "<text text-anchor=\"start\" x=\"3931\" y=\"-349.8\" font-family=\"Helvetica,sans-Serif\" font-size=\"14.00\">class = not A1</text>\r\n",
       "</g>\r\n",
       "<!-- 32&#45;&gt;48 -->\r\n",
       "<g id=\"edge48\" class=\"edge\"><title>32&#45;&gt;48</title>\r\n",
       "<path fill=\"none\" stroke=\"black\" d=\"M3128.05,-492.754C3294.87,-471.469 3721.24,-417.069 3897.95,-394.523\"/>\r\n",
       "<polygon fill=\"black\" stroke=\"black\" points=\"3898.48,-397.984 3907.95,-393.246 3897.59,-391.04 3898.48,-397.984\"/>\r\n",
       "</g>\r\n",
       "<!-- 34 -->\r\n",
       "<g id=\"node35\" class=\"node\"><title>34</title>\r\n",
       "<path fill=\"#f2c19d\" stroke=\"black\" d=\"M2961,-306C2961,-306 2848,-306 2848,-306 2842,-306 2836,-300 2836,-294 2836,-294 2836,-235 2836,-235 2836,-229 2842,-223 2848,-223 2848,-223 2961,-223 2961,-223 2967,-223 2973,-229 2973,-235 2973,-235 2973,-294 2973,-294 2973,-300 2967,-306 2961,-306\"/>\r\n",
       "<text text-anchor=\"start\" x=\"2866\" y=\"-290.8\" font-family=\"Helvetica,sans-Serif\" font-size=\"14.00\">x1_A1 ≤ 0.5</text>\r\n",
       "<text text-anchor=\"start\" x=\"2871\" y=\"-275.8\" font-family=\"Helvetica,sans-Serif\" font-size=\"14.00\">gini = 0.45</text>\r\n",
       "<text text-anchor=\"start\" x=\"2848.5\" y=\"-260.8\" font-family=\"Helvetica,sans-Serif\" font-size=\"14.00\">samples = 17.4%</text>\r\n",
       "<text text-anchor=\"start\" x=\"2844\" y=\"-245.8\" font-family=\"Helvetica,sans-Serif\" font-size=\"14.00\">value = [0.66, 0.34]</text>\r\n",
       "<text text-anchor=\"start\" x=\"2871\" y=\"-230.8\" font-family=\"Helvetica,sans-Serif\" font-size=\"14.00\">class = A1</text>\r\n",
       "</g>\r\n",
       "<!-- 33&#45;&gt;34 -->\r\n",
       "<g id=\"edge34\" class=\"edge\"><title>33&#45;&gt;34</title>\r\n",
       "<path fill=\"none\" stroke=\"black\" d=\"M3005.72,-341.907C2992.98,-332.288 2979.29,-321.953 2966.22,-312.09\"/>\r\n",
       "<polygon fill=\"black\" stroke=\"black\" points=\"2968.27,-309.252 2958.18,-306.021 2964.05,-314.839 2968.27,-309.252\"/>\r\n",
       "</g>\r\n",
       "<!-- 41 -->\r\n",
       "<g id=\"node42\" class=\"node\"><title>41</title>\r\n",
       "<path fill=\"#eb9e66\" stroke=\"black\" d=\"M3271,-306C3271,-306 3158,-306 3158,-306 3152,-306 3146,-300 3146,-294 3146,-294 3146,-235 3146,-235 3146,-229 3152,-223 3158,-223 3158,-223 3271,-223 3271,-223 3277,-223 3283,-229 3283,-235 3283,-235 3283,-294 3283,-294 3283,-300 3277,-306 3271,-306\"/>\r\n",
       "<text text-anchor=\"start\" x=\"3176\" y=\"-290.8\" font-family=\"Helvetica,sans-Serif\" font-size=\"14.00\">x1_A1 ≤ 0.5</text>\r\n",
       "<text text-anchor=\"start\" x=\"3185.5\" y=\"-275.8\" font-family=\"Helvetica,sans-Serif\" font-size=\"14.00\">gini = 0.3</text>\r\n",
       "<text text-anchor=\"start\" x=\"3163\" y=\"-260.8\" font-family=\"Helvetica,sans-Serif\" font-size=\"14.00\">samples = 7.6%</text>\r\n",
       "<text text-anchor=\"start\" x=\"3154\" y=\"-245.8\" font-family=\"Helvetica,sans-Serif\" font-size=\"14.00\">value = [0.81, 0.19]</text>\r\n",
       "<text text-anchor=\"start\" x=\"3181\" y=\"-230.8\" font-family=\"Helvetica,sans-Serif\" font-size=\"14.00\">class = A1</text>\r\n",
       "</g>\r\n",
       "<!-- 33&#45;&gt;41 -->\r\n",
       "<g id=\"edge41\" class=\"edge\"><title>33&#45;&gt;41</title>\r\n",
       "<path fill=\"none\" stroke=\"black\" d=\"M3113.28,-341.907C3126.02,-332.288 3139.71,-321.953 3152.78,-312.09\"/>\r\n",
       "<polygon fill=\"black\" stroke=\"black\" points=\"3154.95,-314.839 3160.82,-306.021 3150.73,-309.252 3154.95,-314.839\"/>\r\n",
       "</g>\r\n",
       "<!-- 35 -->\r\n",
       "<g id=\"node36\" class=\"node\"><title>35</title>\r\n",
       "<path fill=\"#efb185\" stroke=\"black\" d=\"M2728,-187C2728,-187 2615,-187 2615,-187 2609,-187 2603,-181 2603,-175 2603,-175 2603,-116 2603,-116 2603,-110 2609,-104 2615,-104 2615,-104 2728,-104 2728,-104 2734,-104 2740,-110 2740,-116 2740,-116 2740,-175 2740,-175 2740,-181 2734,-187 2728,-187\"/>\r\n",
       "<text text-anchor=\"start\" x=\"2633\" y=\"-171.8\" font-family=\"Helvetica,sans-Serif\" font-size=\"14.00\">x0_A1 ≤ 0.5</text>\r\n",
       "<text text-anchor=\"start\" x=\"2642.5\" y=\"-156.8\" font-family=\"Helvetica,sans-Serif\" font-size=\"14.00\">gini = 0.4</text>\r\n",
       "<text text-anchor=\"start\" x=\"2620\" y=\"-141.8\" font-family=\"Helvetica,sans-Serif\" font-size=\"14.00\">samples = 3.9%</text>\r\n",
       "<text text-anchor=\"start\" x=\"2611\" y=\"-126.8\" font-family=\"Helvetica,sans-Serif\" font-size=\"14.00\">value = [0.72, 0.28]</text>\r\n",
       "<text text-anchor=\"start\" x=\"2638\" y=\"-111.8\" font-family=\"Helvetica,sans-Serif\" font-size=\"14.00\">class = A1</text>\r\n",
       "</g>\r\n",
       "<!-- 34&#45;&gt;35 -->\r\n",
       "<g id=\"edge35\" class=\"edge\"><title>34&#45;&gt;35</title>\r\n",
       "<path fill=\"none\" stroke=\"black\" d=\"M2835.85,-229.029C2808.6,-215.344 2777.12,-199.535 2749.04,-185.438\"/>\r\n",
       "<polygon fill=\"black\" stroke=\"black\" points=\"2750.57,-182.286 2740.06,-180.927 2747.43,-188.542 2750.57,-182.286\"/>\r\n",
       "</g>\r\n",
       "<!-- 38 -->\r\n",
       "<g id=\"node39\" class=\"node\"><title>38</title>\r\n",
       "<path fill=\"#f3c6a5\" stroke=\"black\" d=\"M2961,-187C2961,-187 2848,-187 2848,-187 2842,-187 2836,-181 2836,-175 2836,-175 2836,-116 2836,-116 2836,-110 2842,-104 2848,-104 2848,-104 2961,-104 2961,-104 2967,-104 2973,-110 2973,-116 2973,-116 2973,-175 2973,-175 2973,-181 2967,-187 2961,-187\"/>\r\n",
       "<text text-anchor=\"start\" x=\"2866\" y=\"-171.8\" font-family=\"Helvetica,sans-Serif\" font-size=\"14.00\">x0_A1 ≤ 0.5</text>\r\n",
       "<text text-anchor=\"start\" x=\"2871\" y=\"-156.8\" font-family=\"Helvetica,sans-Serif\" font-size=\"14.00\">gini = 0.46</text>\r\n",
       "<text text-anchor=\"start\" x=\"2848.5\" y=\"-141.8\" font-family=\"Helvetica,sans-Serif\" font-size=\"14.00\">samples = 13.5%</text>\r\n",
       "<text text-anchor=\"start\" x=\"2844\" y=\"-126.8\" font-family=\"Helvetica,sans-Serif\" font-size=\"14.00\">value = [0.65, 0.35]</text>\r\n",
       "<text text-anchor=\"start\" x=\"2871\" y=\"-111.8\" font-family=\"Helvetica,sans-Serif\" font-size=\"14.00\">class = A1</text>\r\n",
       "</g>\r\n",
       "<!-- 34&#45;&gt;38 -->\r\n",
       "<g id=\"edge38\" class=\"edge\"><title>34&#45;&gt;38</title>\r\n",
       "<path fill=\"none\" stroke=\"black\" d=\"M2904.5,-222.907C2904.5,-214.649 2904.5,-205.864 2904.5,-197.302\"/>\r\n",
       "<polygon fill=\"black\" stroke=\"black\" points=\"2908,-197.021 2904.5,-187.021 2901,-197.021 2908,-197.021\"/>\r\n",
       "</g>\r\n",
       "<!-- 36 -->\r\n",
       "<g id=\"node37\" class=\"node\"><title>36</title>\r\n",
       "<path fill=\"#eda673\" stroke=\"black\" d=\"M2573,-68C2573,-68 2460,-68 2460,-68 2454,-68 2448,-62 2448,-56 2448,-56 2448,-12 2448,-12 2448,-6 2454,-0 2460,-0 2460,-0 2573,-0 2573,-0 2579,-0 2585,-6 2585,-12 2585,-12 2585,-56 2585,-56 2585,-62 2579,-68 2573,-68\"/>\r\n",
       "<text text-anchor=\"start\" x=\"2483\" y=\"-52.8\" font-family=\"Helvetica,sans-Serif\" font-size=\"14.00\">gini = 0.35</text>\r\n",
       "<text text-anchor=\"start\" x=\"2465\" y=\"-37.8\" font-family=\"Helvetica,sans-Serif\" font-size=\"14.00\">samples = 2.0%</text>\r\n",
       "<text text-anchor=\"start\" x=\"2456\" y=\"-22.8\" font-family=\"Helvetica,sans-Serif\" font-size=\"14.00\">value = [0.77, 0.23]</text>\r\n",
       "<text text-anchor=\"start\" x=\"2483\" y=\"-7.8\" font-family=\"Helvetica,sans-Serif\" font-size=\"14.00\">class = A1</text>\r\n",
       "</g>\r\n",
       "<!-- 35&#45;&gt;36 -->\r\n",
       "<g id=\"edge36\" class=\"edge\"><title>35&#45;&gt;36</title>\r\n",
       "<path fill=\"none\" stroke=\"black\" d=\"M2613.78,-103.726C2600.1,-94.0582 2585.53,-83.767 2571.95,-74.172\"/>\r\n",
       "<polygon fill=\"black\" stroke=\"black\" points=\"2573.82,-71.2109 2563.64,-68.2996 2569.78,-76.9282 2573.82,-71.2109\"/>\r\n",
       "</g>\r\n",
       "<!-- 37 -->\r\n",
       "<g id=\"node38\" class=\"node\"><title>37</title>\r\n",
       "<path fill=\"#f2c09c\" stroke=\"black\" d=\"M2728,-68C2728,-68 2615,-68 2615,-68 2609,-68 2603,-62 2603,-56 2603,-56 2603,-12 2603,-12 2603,-6 2609,-0 2615,-0 2615,-0 2728,-0 2728,-0 2734,-0 2740,-6 2740,-12 2740,-12 2740,-56 2740,-56 2740,-62 2734,-68 2728,-68\"/>\r\n",
       "<text text-anchor=\"start\" x=\"2638\" y=\"-52.8\" font-family=\"Helvetica,sans-Serif\" font-size=\"14.00\">gini = 0.44</text>\r\n",
       "<text text-anchor=\"start\" x=\"2620\" y=\"-37.8\" font-family=\"Helvetica,sans-Serif\" font-size=\"14.00\">samples = 1.8%</text>\r\n",
       "<text text-anchor=\"start\" x=\"2611\" y=\"-22.8\" font-family=\"Helvetica,sans-Serif\" font-size=\"14.00\">value = [0.67, 0.33]</text>\r\n",
       "<text text-anchor=\"start\" x=\"2638\" y=\"-7.8\" font-family=\"Helvetica,sans-Serif\" font-size=\"14.00\">class = A1</text>\r\n",
       "</g>\r\n",
       "<!-- 35&#45;&gt;37 -->\r\n",
       "<g id=\"edge37\" class=\"edge\"><title>35&#45;&gt;37</title>\r\n",
       "<path fill=\"none\" stroke=\"black\" d=\"M2671.5,-103.726C2671.5,-95.5175 2671.5,-86.8595 2671.5,-78.56\"/>\r\n",
       "<polygon fill=\"black\" stroke=\"black\" points=\"2675,-78.2996 2671.5,-68.2996 2668,-78.2996 2675,-78.2996\"/>\r\n",
       "</g>\r\n",
       "<!-- 39 -->\r\n",
       "<g id=\"node40\" class=\"node\"><title>39</title>\r\n",
       "<path fill=\"#f4ccaf\" stroke=\"black\" d=\"M2883,-68C2883,-68 2770,-68 2770,-68 2764,-68 2758,-62 2758,-56 2758,-56 2758,-12 2758,-12 2758,-6 2764,-0 2770,-0 2770,-0 2883,-0 2883,-0 2889,-0 2895,-6 2895,-12 2895,-12 2895,-56 2895,-56 2895,-62 2889,-68 2883,-68\"/>\r\n",
       "<text text-anchor=\"start\" x=\"2793\" y=\"-52.8\" font-family=\"Helvetica,sans-Serif\" font-size=\"14.00\">gini = 0.47</text>\r\n",
       "<text text-anchor=\"start\" x=\"2775\" y=\"-37.8\" font-family=\"Helvetica,sans-Serif\" font-size=\"14.00\">samples = 7.3%</text>\r\n",
       "<text text-anchor=\"start\" x=\"2766\" y=\"-22.8\" font-family=\"Helvetica,sans-Serif\" font-size=\"14.00\">value = [0.63, 0.37]</text>\r\n",
       "<text text-anchor=\"start\" x=\"2793\" y=\"-7.8\" font-family=\"Helvetica,sans-Serif\" font-size=\"14.00\">class = A1</text>\r\n",
       "</g>\r\n",
       "<!-- 38&#45;&gt;39 -->\r\n",
       "<g id=\"edge39\" class=\"edge\"><title>38&#45;&gt;39</title>\r\n",
       "<path fill=\"none\" stroke=\"black\" d=\"M2875.46,-103.726C2869.15,-94.879 2862.48,-85.51 2856.15,-76.6303\"/>\r\n",
       "<polygon fill=\"black\" stroke=\"black\" points=\"2858.87,-74.4138 2850.22,-68.2996 2853.17,-78.4751 2858.87,-74.4138\"/>\r\n",
       "</g>\r\n",
       "<!-- 40 -->\r\n",
       "<g id=\"node41\" class=\"node\"><title>40</title>\r\n",
       "<path fill=\"#f2bf9b\" stroke=\"black\" d=\"M3038,-68C3038,-68 2925,-68 2925,-68 2919,-68 2913,-62 2913,-56 2913,-56 2913,-12 2913,-12 2913,-6 2919,-0 2925,-0 2925,-0 3038,-0 3038,-0 3044,-0 3050,-6 3050,-12 3050,-12 3050,-56 3050,-56 3050,-62 3044,-68 3038,-68\"/>\r\n",
       "<text text-anchor=\"start\" x=\"2948\" y=\"-52.8\" font-family=\"Helvetica,sans-Serif\" font-size=\"14.00\">gini = 0.44</text>\r\n",
       "<text text-anchor=\"start\" x=\"2930\" y=\"-37.8\" font-family=\"Helvetica,sans-Serif\" font-size=\"14.00\">samples = 6.2%</text>\r\n",
       "<text text-anchor=\"start\" x=\"2921\" y=\"-22.8\" font-family=\"Helvetica,sans-Serif\" font-size=\"14.00\">value = [0.67, 0.33]</text>\r\n",
       "<text text-anchor=\"start\" x=\"2948\" y=\"-7.8\" font-family=\"Helvetica,sans-Serif\" font-size=\"14.00\">class = A1</text>\r\n",
       "</g>\r\n",
       "<!-- 38&#45;&gt;40 -->\r\n",
       "<g id=\"edge40\" class=\"edge\"><title>38&#45;&gt;40</title>\r\n",
       "<path fill=\"none\" stroke=\"black\" d=\"M2933.17,-103.726C2939.39,-94.879 2945.98,-85.51 2952.23,-76.6303\"/>\r\n",
       "<polygon fill=\"black\" stroke=\"black\" points=\"2955.19,-78.4929 2958.08,-68.2996 2949.47,-74.4664 2955.19,-78.4929\"/>\r\n",
       "</g>\r\n",
       "<!-- 42 -->\r\n",
       "<g id=\"node43\" class=\"node\"><title>42</title>\r\n",
       "<path fill=\"#ea975c\" stroke=\"black\" d=\"M3271,-187C3271,-187 3158,-187 3158,-187 3152,-187 3146,-181 3146,-175 3146,-175 3146,-116 3146,-116 3146,-110 3152,-104 3158,-104 3158,-104 3271,-104 3271,-104 3277,-104 3283,-110 3283,-116 3283,-116 3283,-175 3283,-175 3283,-181 3277,-187 3271,-187\"/>\r\n",
       "<text text-anchor=\"start\" x=\"3176\" y=\"-171.8\" font-family=\"Helvetica,sans-Serif\" font-size=\"14.00\">x0_A1 ≤ 0.5</text>\r\n",
       "<text text-anchor=\"start\" x=\"3181\" y=\"-156.8\" font-family=\"Helvetica,sans-Serif\" font-size=\"14.00\">gini = 0.26</text>\r\n",
       "<text text-anchor=\"start\" x=\"3163\" y=\"-141.8\" font-family=\"Helvetica,sans-Serif\" font-size=\"14.00\">samples = 2.3%</text>\r\n",
       "<text text-anchor=\"start\" x=\"3154\" y=\"-126.8\" font-family=\"Helvetica,sans-Serif\" font-size=\"14.00\">value = [0.85, 0.15]</text>\r\n",
       "<text text-anchor=\"start\" x=\"3181\" y=\"-111.8\" font-family=\"Helvetica,sans-Serif\" font-size=\"14.00\">class = A1</text>\r\n",
       "</g>\r\n",
       "<!-- 41&#45;&gt;42 -->\r\n",
       "<g id=\"edge42\" class=\"edge\"><title>41&#45;&gt;42</title>\r\n",
       "<path fill=\"none\" stroke=\"black\" d=\"M3214.5,-222.907C3214.5,-214.649 3214.5,-205.864 3214.5,-197.302\"/>\r\n",
       "<polygon fill=\"black\" stroke=\"black\" points=\"3218,-197.021 3214.5,-187.021 3211,-197.021 3218,-197.021\"/>\r\n",
       "</g>\r\n",
       "<!-- 45 -->\r\n",
       "<g id=\"node46\" class=\"node\"><title>45</title>\r\n",
       "<path fill=\"#eca16b\" stroke=\"black\" d=\"M3495,-187C3495,-187 3398,-187 3398,-187 3392,-187 3386,-181 3386,-175 3386,-175 3386,-116 3386,-116 3386,-110 3392,-104 3398,-104 3398,-104 3495,-104 3495,-104 3501,-104 3507,-110 3507,-116 3507,-116 3507,-175 3507,-175 3507,-181 3501,-187 3495,-187\"/>\r\n",
       "<text text-anchor=\"start\" x=\"3408\" y=\"-171.8\" font-family=\"Helvetica,sans-Serif\" font-size=\"14.00\">x0_A1 ≤ 0.5</text>\r\n",
       "<text text-anchor=\"start\" x=\"3413\" y=\"-156.8\" font-family=\"Helvetica,sans-Serif\" font-size=\"14.00\">gini = 0.32</text>\r\n",
       "<text text-anchor=\"start\" x=\"3395\" y=\"-141.8\" font-family=\"Helvetica,sans-Serif\" font-size=\"14.00\">samples = 5.3%</text>\r\n",
       "<text text-anchor=\"start\" x=\"3394\" y=\"-126.8\" font-family=\"Helvetica,sans-Serif\" font-size=\"14.00\">value = [0.8, 0.2]</text>\r\n",
       "<text text-anchor=\"start\" x=\"3413\" y=\"-111.8\" font-family=\"Helvetica,sans-Serif\" font-size=\"14.00\">class = A1</text>\r\n",
       "</g>\r\n",
       "<!-- 41&#45;&gt;45 -->\r\n",
       "<g id=\"edge45\" class=\"edge\"><title>41&#45;&gt;45</title>\r\n",
       "<path fill=\"none\" stroke=\"black\" d=\"M3283.17,-228.871C3312.71,-213.971 3347.2,-196.577 3376.86,-181.622\"/>\r\n",
       "<polygon fill=\"black\" stroke=\"black\" points=\"3378.54,-184.693 3385.89,-177.065 3375.39,-178.443 3378.54,-184.693\"/>\r\n",
       "</g>\r\n",
       "<!-- 43 -->\r\n",
       "<g id=\"node44\" class=\"node\"><title>43</title>\r\n",
       "<path fill=\"#ea9a61\" stroke=\"black\" d=\"M3193,-68C3193,-68 3080,-68 3080,-68 3074,-68 3068,-62 3068,-56 3068,-56 3068,-12 3068,-12 3068,-6 3074,-0 3080,-0 3080,-0 3193,-0 3193,-0 3199,-0 3205,-6 3205,-12 3205,-12 3205,-56 3205,-56 3205,-62 3199,-68 3193,-68\"/>\r\n",
       "<text text-anchor=\"start\" x=\"3103\" y=\"-52.8\" font-family=\"Helvetica,sans-Serif\" font-size=\"14.00\">gini = 0.28</text>\r\n",
       "<text text-anchor=\"start\" x=\"3085\" y=\"-37.8\" font-family=\"Helvetica,sans-Serif\" font-size=\"14.00\">samples = 1.1%</text>\r\n",
       "<text text-anchor=\"start\" x=\"3076\" y=\"-22.8\" font-family=\"Helvetica,sans-Serif\" font-size=\"14.00\">value = [0.83, 0.17]</text>\r\n",
       "<text text-anchor=\"start\" x=\"3103\" y=\"-7.8\" font-family=\"Helvetica,sans-Serif\" font-size=\"14.00\">class = A1</text>\r\n",
       "</g>\r\n",
       "<!-- 42&#45;&gt;43 -->\r\n",
       "<g id=\"edge43\" class=\"edge\"><title>42&#45;&gt;43</title>\r\n",
       "<path fill=\"none\" stroke=\"black\" d=\"M3185.46,-103.726C3179.15,-94.879 3172.48,-85.51 3166.15,-76.6303\"/>\r\n",
       "<polygon fill=\"black\" stroke=\"black\" points=\"3168.87,-74.4138 3160.22,-68.2996 3163.17,-78.4751 3168.87,-74.4138\"/>\r\n",
       "</g>\r\n",
       "<!-- 44 -->\r\n",
       "<g id=\"node45\" class=\"node\"><title>44</title>\r\n",
       "<path fill=\"#e99558\" stroke=\"black\" d=\"M3348,-68C3348,-68 3235,-68 3235,-68 3229,-68 3223,-62 3223,-56 3223,-56 3223,-12 3223,-12 3223,-6 3229,-0 3235,-0 3235,-0 3348,-0 3348,-0 3354,-0 3360,-6 3360,-12 3360,-12 3360,-56 3360,-56 3360,-62 3354,-68 3348,-68\"/>\r\n",
       "<text text-anchor=\"start\" x=\"3258\" y=\"-52.8\" font-family=\"Helvetica,sans-Serif\" font-size=\"14.00\">gini = 0.24</text>\r\n",
       "<text text-anchor=\"start\" x=\"3240\" y=\"-37.8\" font-family=\"Helvetica,sans-Serif\" font-size=\"14.00\">samples = 1.2%</text>\r\n",
       "<text text-anchor=\"start\" x=\"3231\" y=\"-22.8\" font-family=\"Helvetica,sans-Serif\" font-size=\"14.00\">value = [0.86, 0.14]</text>\r\n",
       "<text text-anchor=\"start\" x=\"3258\" y=\"-7.8\" font-family=\"Helvetica,sans-Serif\" font-size=\"14.00\">class = A1</text>\r\n",
       "</g>\r\n",
       "<!-- 42&#45;&gt;44 -->\r\n",
       "<g id=\"edge44\" class=\"edge\"><title>42&#45;&gt;44</title>\r\n",
       "<path fill=\"none\" stroke=\"black\" d=\"M3243.17,-103.726C3249.39,-94.879 3255.98,-85.51 3262.23,-76.6303\"/>\r\n",
       "<polygon fill=\"black\" stroke=\"black\" points=\"3265.19,-78.4929 3268.08,-68.2996 3259.47,-74.4664 3265.19,-78.4929\"/>\r\n",
       "</g>\r\n",
       "<!-- 46 -->\r\n",
       "<g id=\"node47\" class=\"node\"><title>46</title>\r\n",
       "<path fill=\"#eb9c63\" stroke=\"black\" d=\"M3503,-68C3503,-68 3390,-68 3390,-68 3384,-68 3378,-62 3378,-56 3378,-56 3378,-12 3378,-12 3378,-6 3384,-0 3390,-0 3390,-0 3503,-0 3503,-0 3509,-0 3515,-6 3515,-12 3515,-12 3515,-56 3515,-56 3515,-62 3509,-68 3503,-68\"/>\r\n",
       "<text text-anchor=\"start\" x=\"3413\" y=\"-52.8\" font-family=\"Helvetica,sans-Serif\" font-size=\"14.00\">gini = 0.29</text>\r\n",
       "<text text-anchor=\"start\" x=\"3395\" y=\"-37.8\" font-family=\"Helvetica,sans-Serif\" font-size=\"14.00\">samples = 2.6%</text>\r\n",
       "<text text-anchor=\"start\" x=\"3386\" y=\"-22.8\" font-family=\"Helvetica,sans-Serif\" font-size=\"14.00\">value = [0.82, 0.18]</text>\r\n",
       "<text text-anchor=\"start\" x=\"3413\" y=\"-7.8\" font-family=\"Helvetica,sans-Serif\" font-size=\"14.00\">class = A1</text>\r\n",
       "</g>\r\n",
       "<!-- 45&#45;&gt;46 -->\r\n",
       "<g id=\"edge46\" class=\"edge\"><title>45&#45;&gt;46</title>\r\n",
       "<path fill=\"none\" stroke=\"black\" d=\"M3446.5,-103.726C3446.5,-95.5175 3446.5,-86.8595 3446.5,-78.56\"/>\r\n",
       "<polygon fill=\"black\" stroke=\"black\" points=\"3450,-78.2996 3446.5,-68.2996 3443,-78.2996 3450,-78.2996\"/>\r\n",
       "</g>\r\n",
       "<!-- 47 -->\r\n",
       "<g id=\"node48\" class=\"node\"><title>47</title>\r\n",
       "<path fill=\"#eda673\" stroke=\"black\" d=\"M3658,-68C3658,-68 3545,-68 3545,-68 3539,-68 3533,-62 3533,-56 3533,-56 3533,-12 3533,-12 3533,-6 3539,-0 3545,-0 3545,-0 3658,-0 3658,-0 3664,-0 3670,-6 3670,-12 3670,-12 3670,-56 3670,-56 3670,-62 3664,-68 3658,-68\"/>\r\n",
       "<text text-anchor=\"start\" x=\"3568\" y=\"-52.8\" font-family=\"Helvetica,sans-Serif\" font-size=\"14.00\">gini = 0.35</text>\r\n",
       "<text text-anchor=\"start\" x=\"3550\" y=\"-37.8\" font-family=\"Helvetica,sans-Serif\" font-size=\"14.00\">samples = 2.6%</text>\r\n",
       "<text text-anchor=\"start\" x=\"3541\" y=\"-22.8\" font-family=\"Helvetica,sans-Serif\" font-size=\"14.00\">value = [0.77, 0.23]</text>\r\n",
       "<text text-anchor=\"start\" x=\"3568\" y=\"-7.8\" font-family=\"Helvetica,sans-Serif\" font-size=\"14.00\">class = A1</text>\r\n",
       "</g>\r\n",
       "<!-- 45&#45;&gt;47 -->\r\n",
       "<g id=\"edge47\" class=\"edge\"><title>45&#45;&gt;47</title>\r\n",
       "<path fill=\"none\" stroke=\"black\" d=\"M3504.22,-103.726C3517.9,-94.0582 3532.47,-83.767 3546.05,-74.172\"/>\r\n",
       "<polygon fill=\"black\" stroke=\"black\" points=\"3548.22,-76.9282 3554.36,-68.2996 3544.18,-71.2109 3548.22,-76.9282\"/>\r\n",
       "</g>\r\n",
       "<!-- 49 -->\r\n",
       "<g id=\"node50\" class=\"node\"><title>49</title>\r\n",
       "<path fill=\"#b9dcf6\" stroke=\"black\" d=\"M4033,-306C4033,-306 3920,-306 3920,-306 3914,-306 3908,-300 3908,-294 3908,-294 3908,-235 3908,-235 3908,-229 3914,-223 3920,-223 3920,-223 4033,-223 4033,-223 4039,-223 4045,-229 4045,-235 4045,-235 4045,-294 4045,-294 4045,-300 4039,-306 4033,-306\"/>\r\n",
       "<text text-anchor=\"start\" x=\"3938\" y=\"-290.8\" font-family=\"Helvetica,sans-Serif\" font-size=\"14.00\">x1_A1 ≤ 0.5</text>\r\n",
       "<text text-anchor=\"start\" x=\"3943\" y=\"-275.8\" font-family=\"Helvetica,sans-Serif\" font-size=\"14.00\">gini = 0.48</text>\r\n",
       "<text text-anchor=\"start\" x=\"3920.5\" y=\"-260.8\" font-family=\"Helvetica,sans-Serif\" font-size=\"14.00\">samples = 17.8%</text>\r\n",
       "<text text-anchor=\"start\" x=\"3916\" y=\"-245.8\" font-family=\"Helvetica,sans-Serif\" font-size=\"14.00\">value = [0.39, 0.61]</text>\r\n",
       "<text text-anchor=\"start\" x=\"3931\" y=\"-230.8\" font-family=\"Helvetica,sans-Serif\" font-size=\"14.00\">class = not A1</text>\r\n",
       "</g>\r\n",
       "<!-- 48&#45;&gt;49 -->\r\n",
       "<g id=\"edge49\" class=\"edge\"><title>48&#45;&gt;49</title>\r\n",
       "<path fill=\"none\" stroke=\"black\" d=\"M3976.5,-341.907C3976.5,-333.649 3976.5,-324.864 3976.5,-316.302\"/>\r\n",
       "<polygon fill=\"black\" stroke=\"black\" points=\"3980,-316.021 3976.5,-306.021 3973,-316.021 3980,-316.021\"/>\r\n",
       "</g>\r\n",
       "<!-- 56 -->\r\n",
       "<g id=\"node57\" class=\"node\"><title>56</title>\r\n",
       "<path fill=\"#f9e4d4\" stroke=\"black\" d=\"M4494,-306C4494,-306 4381,-306 4381,-306 4375,-306 4369,-300 4369,-294 4369,-294 4369,-235 4369,-235 4369,-229 4375,-223 4381,-223 4381,-223 4494,-223 4494,-223 4500,-223 4506,-229 4506,-235 4506,-235 4506,-294 4506,-294 4506,-300 4500,-306 4494,-306\"/>\r\n",
       "<text text-anchor=\"start\" x=\"4399\" y=\"-290.8\" font-family=\"Helvetica,sans-Serif\" font-size=\"14.00\">x1_A1 ≤ 0.5</text>\r\n",
       "<text text-anchor=\"start\" x=\"4404\" y=\"-275.8\" font-family=\"Helvetica,sans-Serif\" font-size=\"14.00\">gini = 0.49</text>\r\n",
       "<text text-anchor=\"start\" x=\"4381.5\" y=\"-260.8\" font-family=\"Helvetica,sans-Serif\" font-size=\"14.00\">samples = 12.3%</text>\r\n",
       "<text text-anchor=\"start\" x=\"4377\" y=\"-245.8\" font-family=\"Helvetica,sans-Serif\" font-size=\"14.00\">value = [0.56, 0.44]</text>\r\n",
       "<text text-anchor=\"start\" x=\"4404\" y=\"-230.8\" font-family=\"Helvetica,sans-Serif\" font-size=\"14.00\">class = A1</text>\r\n",
       "</g>\r\n",
       "<!-- 48&#45;&gt;56 -->\r\n",
       "<g id=\"edge56\" class=\"edge\"><title>48&#45;&gt;56</title>\r\n",
       "<path fill=\"none\" stroke=\"black\" d=\"M4045.02,-365.11C4128.94,-343.81 4270.8,-307.807 4359.03,-285.416\"/>\r\n",
       "<polygon fill=\"black\" stroke=\"black\" points=\"4360.15,-288.742 4368.98,-282.89 4358.43,-281.957 4360.15,-288.742\"/>\r\n",
       "</g>\r\n",
       "<!-- 50 -->\r\n",
       "<g id=\"node51\" class=\"node\"><title>50</title>\r\n",
       "<path fill=\"#d6ebfa\" stroke=\"black\" d=\"M3956,-187C3956,-187 3843,-187 3843,-187 3837,-187 3831,-181 3831,-175 3831,-175 3831,-116 3831,-116 3831,-110 3837,-104 3843,-104 3843,-104 3956,-104 3956,-104 3962,-104 3968,-110 3968,-116 3968,-116 3968,-175 3968,-175 3968,-181 3962,-187 3956,-187\"/>\r\n",
       "<text text-anchor=\"start\" x=\"3861\" y=\"-171.8\" font-family=\"Helvetica,sans-Serif\" font-size=\"14.00\">x0_A1 ≤ 0.5</text>\r\n",
       "<text text-anchor=\"start\" x=\"3866\" y=\"-156.8\" font-family=\"Helvetica,sans-Serif\" font-size=\"14.00\">gini = 0.49</text>\r\n",
       "<text text-anchor=\"start\" x=\"3848\" y=\"-141.8\" font-family=\"Helvetica,sans-Serif\" font-size=\"14.00\">samples = 2.8%</text>\r\n",
       "<text text-anchor=\"start\" x=\"3839\" y=\"-126.8\" font-family=\"Helvetica,sans-Serif\" font-size=\"14.00\">value = [0.44, 0.56]</text>\r\n",
       "<text text-anchor=\"start\" x=\"3854\" y=\"-111.8\" font-family=\"Helvetica,sans-Serif\" font-size=\"14.00\">class = not A1</text>\r\n",
       "</g>\r\n",
       "<!-- 49&#45;&gt;50 -->\r\n",
       "<g id=\"edge50\" class=\"edge\"><title>49&#45;&gt;50</title>\r\n",
       "<path fill=\"none\" stroke=\"black\" d=\"M3949.79,-222.907C3943.99,-214.105 3937.8,-204.703 3931.82,-195.612\"/>\r\n",
       "<polygon fill=\"black\" stroke=\"black\" points=\"3934.59,-193.45 3926.17,-187.021 3928.74,-197.298 3934.59,-193.45\"/>\r\n",
       "</g>\r\n",
       "<!-- 53 -->\r\n",
       "<g id=\"node54\" class=\"node\"><title>53</title>\r\n",
       "<path fill=\"#b4daf5\" stroke=\"black\" d=\"M4111,-187C4111,-187 3998,-187 3998,-187 3992,-187 3986,-181 3986,-175 3986,-175 3986,-116 3986,-116 3986,-110 3992,-104 3998,-104 3998,-104 4111,-104 4111,-104 4117,-104 4123,-110 4123,-116 4123,-116 4123,-175 4123,-175 4123,-181 4117,-187 4111,-187\"/>\r\n",
       "<text text-anchor=\"start\" x=\"4016\" y=\"-171.8\" font-family=\"Helvetica,sans-Serif\" font-size=\"14.00\">x0_A1 ≤ 0.5</text>\r\n",
       "<text text-anchor=\"start\" x=\"4021\" y=\"-156.8\" font-family=\"Helvetica,sans-Serif\" font-size=\"14.00\">gini = 0.47</text>\r\n",
       "<text text-anchor=\"start\" x=\"3998.5\" y=\"-141.8\" font-family=\"Helvetica,sans-Serif\" font-size=\"14.00\">samples = 15.0%</text>\r\n",
       "<text text-anchor=\"start\" x=\"3994\" y=\"-126.8\" font-family=\"Helvetica,sans-Serif\" font-size=\"14.00\">value = [0.38, 0.62]</text>\r\n",
       "<text text-anchor=\"start\" x=\"4009\" y=\"-111.8\" font-family=\"Helvetica,sans-Serif\" font-size=\"14.00\">class = not A1</text>\r\n",
       "</g>\r\n",
       "<!-- 49&#45;&gt;53 -->\r\n",
       "<g id=\"edge53\" class=\"edge\"><title>49&#45;&gt;53</title>\r\n",
       "<path fill=\"none\" stroke=\"black\" d=\"M4003.56,-222.907C4009.43,-214.105 4015.7,-204.703 4021.76,-195.612\"/>\r\n",
       "<polygon fill=\"black\" stroke=\"black\" points=\"4024.85,-197.283 4027.49,-187.021 4019.03,-193.4 4024.85,-197.283\"/>\r\n",
       "</g>\r\n",
       "<!-- 51 -->\r\n",
       "<g id=\"node52\" class=\"node\"><title>51</title>\r\n",
       "<path fill=\"#b7dbf6\" stroke=\"black\" d=\"M3813,-68C3813,-68 3700,-68 3700,-68 3694,-68 3688,-62 3688,-56 3688,-56 3688,-12 3688,-12 3688,-6 3694,-0 3700,-0 3700,-0 3813,-0 3813,-0 3819,-0 3825,-6 3825,-12 3825,-12 3825,-56 3825,-56 3825,-62 3819,-68 3813,-68\"/>\r\n",
       "<text text-anchor=\"start\" x=\"3723\" y=\"-52.8\" font-family=\"Helvetica,sans-Serif\" font-size=\"14.00\">gini = 0.48</text>\r\n",
       "<text text-anchor=\"start\" x=\"3705\" y=\"-37.8\" font-family=\"Helvetica,sans-Serif\" font-size=\"14.00\">samples = 1.5%</text>\r\n",
       "<text text-anchor=\"start\" x=\"3696\" y=\"-22.8\" font-family=\"Helvetica,sans-Serif\" font-size=\"14.00\">value = [0.39, 0.61]</text>\r\n",
       "<text text-anchor=\"start\" x=\"3711\" y=\"-7.8\" font-family=\"Helvetica,sans-Serif\" font-size=\"14.00\">class = not A1</text>\r\n",
       "</g>\r\n",
       "<!-- 50&#45;&gt;51 -->\r\n",
       "<g id=\"edge51\" class=\"edge\"><title>50&#45;&gt;51</title>\r\n",
       "<path fill=\"none\" stroke=\"black\" d=\"M3846.25,-103.726C3833.75,-94.1494 3820.44,-83.9611 3808.01,-74.4438\"/>\r\n",
       "<polygon fill=\"black\" stroke=\"black\" points=\"3810.05,-71.6004 3799.99,-68.2996 3805.8,-77.1582 3810.05,-71.6004\"/>\r\n",
       "</g>\r\n",
       "<!-- 52 -->\r\n",
       "<g id=\"node53\" class=\"node\"><title>52</title>\r\n",
       "<path fill=\"#ffffff\" stroke=\"black\" d=\"M3952,-68C3952,-68 3855,-68 3855,-68 3849,-68 3843,-62 3843,-56 3843,-56 3843,-12 3843,-12 3843,-6 3849,-0 3855,-0 3855,-0 3952,-0 3952,-0 3958,-0 3964,-6 3964,-12 3964,-12 3964,-56 3964,-56 3964,-62 3958,-68 3952,-68\"/>\r\n",
       "<text text-anchor=\"start\" x=\"3874.5\" y=\"-52.8\" font-family=\"Helvetica,sans-Serif\" font-size=\"14.00\">gini = 0.5</text>\r\n",
       "<text text-anchor=\"start\" x=\"3852\" y=\"-37.8\" font-family=\"Helvetica,sans-Serif\" font-size=\"14.00\">samples = 1.4%</text>\r\n",
       "<text text-anchor=\"start\" x=\"3851\" y=\"-22.8\" font-family=\"Helvetica,sans-Serif\" font-size=\"14.00\">value = [0.5, 0.5]</text>\r\n",
       "<text text-anchor=\"start\" x=\"3870\" y=\"-7.8\" font-family=\"Helvetica,sans-Serif\" font-size=\"14.00\">class = A1</text>\r\n",
       "</g>\r\n",
       "<!-- 50&#45;&gt;52 -->\r\n",
       "<g id=\"edge52\" class=\"edge\"><title>50&#45;&gt;52</title>\r\n",
       "<path fill=\"none\" stroke=\"black\" d=\"M3900.99,-103.726C3901.29,-95.5175 3901.61,-86.8595 3901.91,-78.56\"/>\r\n",
       "<polygon fill=\"black\" stroke=\"black\" points=\"3905.42,-78.4207 3902.28,-68.2996 3898.42,-78.1651 3905.42,-78.4207\"/>\r\n",
       "</g>\r\n",
       "<!-- 54 -->\r\n",
       "<g id=\"node55\" class=\"node\"><title>54</title>\r\n",
       "<path fill=\"#c6e3f8\" stroke=\"black\" d=\"M4107,-68C4107,-68 3994,-68 3994,-68 3988,-68 3982,-62 3982,-56 3982,-56 3982,-12 3982,-12 3982,-6 3988,-0 3994,-0 3994,-0 4107,-0 4107,-0 4113,-0 4119,-6 4119,-12 4119,-12 4119,-56 4119,-56 4119,-62 4113,-68 4107,-68\"/>\r\n",
       "<text text-anchor=\"start\" x=\"4017\" y=\"-52.8\" font-family=\"Helvetica,sans-Serif\" font-size=\"14.00\">gini = 0.49</text>\r\n",
       "<text text-anchor=\"start\" x=\"3999\" y=\"-37.8\" font-family=\"Helvetica,sans-Serif\" font-size=\"14.00\">samples = 7.3%</text>\r\n",
       "<text text-anchor=\"start\" x=\"3990\" y=\"-22.8\" font-family=\"Helvetica,sans-Serif\" font-size=\"14.00\">value = [0.42, 0.58]</text>\r\n",
       "<text text-anchor=\"start\" x=\"4005\" y=\"-7.8\" font-family=\"Helvetica,sans-Serif\" font-size=\"14.00\">class = not A1</text>\r\n",
       "</g>\r\n",
       "<!-- 53&#45;&gt;54 -->\r\n",
       "<g id=\"edge54\" class=\"edge\"><title>53&#45;&gt;54</title>\r\n",
       "<path fill=\"none\" stroke=\"black\" d=\"M4053.01,-103.726C4052.71,-95.5175 4052.39,-86.8595 4052.09,-78.56\"/>\r\n",
       "<polygon fill=\"black\" stroke=\"black\" points=\"4055.58,-78.1651 4051.72,-68.2996 4048.58,-78.4207 4055.58,-78.1651\"/>\r\n",
       "</g>\r\n",
       "<!-- 55 -->\r\n",
       "<g id=\"node56\" class=\"node\"><title>55</title>\r\n",
       "<path fill=\"#a4d2f3\" stroke=\"black\" d=\"M4262,-68C4262,-68 4149,-68 4149,-68 4143,-68 4137,-62 4137,-56 4137,-56 4137,-12 4137,-12 4137,-6 4143,-0 4149,-0 4149,-0 4262,-0 4262,-0 4268,-0 4274,-6 4274,-12 4274,-12 4274,-56 4274,-56 4274,-62 4268,-68 4262,-68\"/>\r\n",
       "<text text-anchor=\"start\" x=\"4172\" y=\"-52.8\" font-family=\"Helvetica,sans-Serif\" font-size=\"14.00\">gini = 0.45</text>\r\n",
       "<text text-anchor=\"start\" x=\"4154\" y=\"-37.8\" font-family=\"Helvetica,sans-Serif\" font-size=\"14.00\">samples = 7.6%</text>\r\n",
       "<text text-anchor=\"start\" x=\"4145\" y=\"-22.8\" font-family=\"Helvetica,sans-Serif\" font-size=\"14.00\">value = [0.35, 0.65]</text>\r\n",
       "<text text-anchor=\"start\" x=\"4160\" y=\"-7.8\" font-family=\"Helvetica,sans-Serif\" font-size=\"14.00\">class = not A1</text>\r\n",
       "</g>\r\n",
       "<!-- 53&#45;&gt;55 -->\r\n",
       "<g id=\"edge55\" class=\"edge\"><title>53&#45;&gt;55</title>\r\n",
       "<path fill=\"none\" stroke=\"black\" d=\"M4110.73,-103.726C4124.06,-94.0582 4138.25,-83.767 4151.48,-74.172\"/>\r\n",
       "<polygon fill=\"black\" stroke=\"black\" points=\"4153.54,-77.0036 4159.58,-68.2996 4149.43,-71.3368 4153.54,-77.0036\"/>\r\n",
       "</g>\r\n",
       "<!-- 57 -->\r\n",
       "<g id=\"node58\" class=\"node\"><title>57</title>\r\n",
       "<path fill=\"#f5d0b5\" stroke=\"black\" d=\"M4494,-187C4494,-187 4381,-187 4381,-187 4375,-187 4369,-181 4369,-175 4369,-175 4369,-116 4369,-116 4369,-110 4375,-104 4381,-104 4381,-104 4494,-104 4494,-104 4500,-104 4506,-110 4506,-116 4506,-116 4506,-175 4506,-175 4506,-181 4500,-187 4494,-187\"/>\r\n",
       "<text text-anchor=\"start\" x=\"4399\" y=\"-171.8\" font-family=\"Helvetica,sans-Serif\" font-size=\"14.00\">x0_A1 ≤ 0.5</text>\r\n",
       "<text text-anchor=\"start\" x=\"4404\" y=\"-156.8\" font-family=\"Helvetica,sans-Serif\" font-size=\"14.00\">gini = 0.47</text>\r\n",
       "<text text-anchor=\"start\" x=\"4386\" y=\"-141.8\" font-family=\"Helvetica,sans-Serif\" font-size=\"14.00\">samples = 2.3%</text>\r\n",
       "<text text-anchor=\"start\" x=\"4377\" y=\"-126.8\" font-family=\"Helvetica,sans-Serif\" font-size=\"14.00\">value = [0.61, 0.39]</text>\r\n",
       "<text text-anchor=\"start\" x=\"4404\" y=\"-111.8\" font-family=\"Helvetica,sans-Serif\" font-size=\"14.00\">class = A1</text>\r\n",
       "</g>\r\n",
       "<!-- 56&#45;&gt;57 -->\r\n",
       "<g id=\"edge57\" class=\"edge\"><title>56&#45;&gt;57</title>\r\n",
       "<path fill=\"none\" stroke=\"black\" d=\"M4437.5,-222.907C4437.5,-214.649 4437.5,-205.864 4437.5,-197.302\"/>\r\n",
       "<polygon fill=\"black\" stroke=\"black\" points=\"4441,-197.021 4437.5,-187.021 4434,-197.021 4441,-197.021\"/>\r\n",
       "</g>\r\n",
       "<!-- 60 -->\r\n",
       "<g id=\"node61\" class=\"node\"><title>60</title>\r\n",
       "<path fill=\"#fae9dc\" stroke=\"black\" d=\"M4727,-187C4727,-187 4614,-187 4614,-187 4608,-187 4602,-181 4602,-175 4602,-175 4602,-116 4602,-116 4602,-110 4608,-104 4614,-104 4614,-104 4727,-104 4727,-104 4733,-104 4739,-110 4739,-116 4739,-116 4739,-175 4739,-175 4739,-181 4733,-187 4727,-187\"/>\r\n",
       "<text text-anchor=\"start\" x=\"4632\" y=\"-171.8\" font-family=\"Helvetica,sans-Serif\" font-size=\"14.00\">x0_A1 ≤ 0.5</text>\r\n",
       "<text text-anchor=\"start\" x=\"4641.5\" y=\"-156.8\" font-family=\"Helvetica,sans-Serif\" font-size=\"14.00\">gini = 0.5</text>\r\n",
       "<text text-anchor=\"start\" x=\"4614.5\" y=\"-141.8\" font-family=\"Helvetica,sans-Serif\" font-size=\"14.00\">samples = 10.1%</text>\r\n",
       "<text text-anchor=\"start\" x=\"4610\" y=\"-126.8\" font-family=\"Helvetica,sans-Serif\" font-size=\"14.00\">value = [0.55, 0.45]</text>\r\n",
       "<text text-anchor=\"start\" x=\"4637\" y=\"-111.8\" font-family=\"Helvetica,sans-Serif\" font-size=\"14.00\">class = A1</text>\r\n",
       "</g>\r\n",
       "<!-- 56&#45;&gt;60 -->\r\n",
       "<g id=\"edge60\" class=\"edge\"><title>56&#45;&gt;60</title>\r\n",
       "<path fill=\"none\" stroke=\"black\" d=\"M4506.15,-229.029C4533.4,-215.344 4564.88,-199.535 4592.96,-185.438\"/>\r\n",
       "<polygon fill=\"black\" stroke=\"black\" points=\"4594.57,-188.542 4601.94,-180.927 4591.43,-182.286 4594.57,-188.542\"/>\r\n",
       "</g>\r\n",
       "<!-- 58 -->\r\n",
       "<g id=\"node59\" class=\"node\"><title>58</title>\r\n",
       "<path fill=\"#f3c5a4\" stroke=\"black\" d=\"M4417,-68C4417,-68 4304,-68 4304,-68 4298,-68 4292,-62 4292,-56 4292,-56 4292,-12 4292,-12 4292,-6 4298,-0 4304,-0 4304,-0 4417,-0 4417,-0 4423,-0 4429,-6 4429,-12 4429,-12 4429,-56 4429,-56 4429,-62 4423,-68 4417,-68\"/>\r\n",
       "<text text-anchor=\"start\" x=\"4327\" y=\"-52.8\" font-family=\"Helvetica,sans-Serif\" font-size=\"14.00\">gini = 0.46</text>\r\n",
       "<text text-anchor=\"start\" x=\"4309\" y=\"-37.8\" font-family=\"Helvetica,sans-Serif\" font-size=\"14.00\">samples = 1.0%</text>\r\n",
       "<text text-anchor=\"start\" x=\"4300\" y=\"-22.8\" font-family=\"Helvetica,sans-Serif\" font-size=\"14.00\">value = [0.65, 0.35]</text>\r\n",
       "<text text-anchor=\"start\" x=\"4327\" y=\"-7.8\" font-family=\"Helvetica,sans-Serif\" font-size=\"14.00\">class = A1</text>\r\n",
       "</g>\r\n",
       "<!-- 57&#45;&gt;58 -->\r\n",
       "<g id=\"edge58\" class=\"edge\"><title>57&#45;&gt;58</title>\r\n",
       "<path fill=\"none\" stroke=\"black\" d=\"M4408.83,-103.726C4402.61,-94.879 4396.02,-85.51 4389.77,-76.6303\"/>\r\n",
       "<polygon fill=\"black\" stroke=\"black\" points=\"4392.53,-74.4664 4383.92,-68.2996 4386.81,-78.4929 4392.53,-74.4664\"/>\r\n",
       "</g>\r\n",
       "<!-- 59 -->\r\n",
       "<g id=\"node60\" class=\"node\"><title>59</title>\r\n",
       "<path fill=\"#f7dac4\" stroke=\"black\" d=\"M4572,-68C4572,-68 4459,-68 4459,-68 4453,-68 4447,-62 4447,-56 4447,-56 4447,-12 4447,-12 4447,-6 4453,-0 4459,-0 4459,-0 4572,-0 4572,-0 4578,-0 4584,-6 4584,-12 4584,-12 4584,-56 4584,-56 4584,-62 4578,-68 4572,-68\"/>\r\n",
       "<text text-anchor=\"start\" x=\"4482\" y=\"-52.8\" font-family=\"Helvetica,sans-Serif\" font-size=\"14.00\">gini = 0.48</text>\r\n",
       "<text text-anchor=\"start\" x=\"4464\" y=\"-37.8\" font-family=\"Helvetica,sans-Serif\" font-size=\"14.00\">samples = 1.3%</text>\r\n",
       "<text text-anchor=\"start\" x=\"4455\" y=\"-22.8\" font-family=\"Helvetica,sans-Serif\" font-size=\"14.00\">value = [0.59, 0.41]</text>\r\n",
       "<text text-anchor=\"start\" x=\"4482\" y=\"-7.8\" font-family=\"Helvetica,sans-Serif\" font-size=\"14.00\">class = A1</text>\r\n",
       "</g>\r\n",
       "<!-- 57&#45;&gt;59 -->\r\n",
       "<g id=\"edge59\" class=\"edge\"><title>57&#45;&gt;59</title>\r\n",
       "<path fill=\"none\" stroke=\"black\" d=\"M4466.54,-103.726C4472.85,-94.879 4479.52,-85.51 4485.85,-76.6303\"/>\r\n",
       "<polygon fill=\"black\" stroke=\"black\" points=\"4488.83,-78.4751 4491.78,-68.2996 4483.13,-74.4138 4488.83,-78.4751\"/>\r\n",
       "</g>\r\n",
       "<!-- 61 -->\r\n",
       "<g id=\"node62\" class=\"node\"><title>61</title>\r\n",
       "<path fill=\"#f9e2d1\" stroke=\"black\" d=\"M4727,-68C4727,-68 4614,-68 4614,-68 4608,-68 4602,-62 4602,-56 4602,-56 4602,-12 4602,-12 4602,-6 4608,-0 4614,-0 4614,-0 4727,-0 4727,-0 4733,-0 4739,-6 4739,-12 4739,-12 4739,-56 4739,-56 4739,-62 4733,-68 4727,-68\"/>\r\n",
       "<text text-anchor=\"start\" x=\"4637\" y=\"-52.8\" font-family=\"Helvetica,sans-Serif\" font-size=\"14.00\">gini = 0.49</text>\r\n",
       "<text text-anchor=\"start\" x=\"4619\" y=\"-37.8\" font-family=\"Helvetica,sans-Serif\" font-size=\"14.00\">samples = 5.6%</text>\r\n",
       "<text text-anchor=\"start\" x=\"4610\" y=\"-22.8\" font-family=\"Helvetica,sans-Serif\" font-size=\"14.00\">value = [0.57, 0.43]</text>\r\n",
       "<text text-anchor=\"start\" x=\"4637\" y=\"-7.8\" font-family=\"Helvetica,sans-Serif\" font-size=\"14.00\">class = A1</text>\r\n",
       "</g>\r\n",
       "<!-- 60&#45;&gt;61 -->\r\n",
       "<g id=\"edge61\" class=\"edge\"><title>60&#45;&gt;61</title>\r\n",
       "<path fill=\"none\" stroke=\"black\" d=\"M4670.5,-103.726C4670.5,-95.5175 4670.5,-86.8595 4670.5,-78.56\"/>\r\n",
       "<polygon fill=\"black\" stroke=\"black\" points=\"4674,-78.2996 4670.5,-68.2996 4667,-78.2996 4674,-78.2996\"/>\r\n",
       "</g>\r\n",
       "<!-- 62 -->\r\n",
       "<g id=\"node63\" class=\"node\"><title>62</title>\r\n",
       "<path fill=\"#fcf2ea\" stroke=\"black\" d=\"M4882,-68C4882,-68 4769,-68 4769,-68 4763,-68 4757,-62 4757,-56 4757,-56 4757,-12 4757,-12 4757,-6 4763,-0 4769,-0 4769,-0 4882,-0 4882,-0 4888,-0 4894,-6 4894,-12 4894,-12 4894,-56 4894,-56 4894,-62 4888,-68 4882,-68\"/>\r\n",
       "<text text-anchor=\"start\" x=\"4796.5\" y=\"-52.8\" font-family=\"Helvetica,sans-Serif\" font-size=\"14.00\">gini = 0.5</text>\r\n",
       "<text text-anchor=\"start\" x=\"4774\" y=\"-37.8\" font-family=\"Helvetica,sans-Serif\" font-size=\"14.00\">samples = 4.5%</text>\r\n",
       "<text text-anchor=\"start\" x=\"4765\" y=\"-22.8\" font-family=\"Helvetica,sans-Serif\" font-size=\"14.00\">value = [0.53, 0.47]</text>\r\n",
       "<text text-anchor=\"start\" x=\"4792\" y=\"-7.8\" font-family=\"Helvetica,sans-Serif\" font-size=\"14.00\">class = A1</text>\r\n",
       "</g>\r\n",
       "<!-- 60&#45;&gt;62 -->\r\n",
       "<g id=\"edge62\" class=\"edge\"><title>60&#45;&gt;62</title>\r\n",
       "<path fill=\"none\" stroke=\"black\" d=\"M4728.22,-103.726C4741.9,-94.0582 4756.47,-83.767 4770.05,-74.172\"/>\r\n",
       "<polygon fill=\"black\" stroke=\"black\" points=\"4772.22,-76.9282 4778.36,-68.2996 4768.18,-71.2109 4772.22,-76.9282\"/>\r\n",
       "</g>\r\n",
       "</g>\r\n",
       "</svg>\r\n"
      ],
      "text/plain": [
       "<graphviz.files.Source at 0x264964e8a08>"
      ]
     },
     "execution_count": 27,
     "metadata": {},
     "output_type": "execute_result"
    }
   ],
   "source": [
    "target_names = ['A1', 'not A1']\n",
    "dot_data = export_graphviz(clf2, precision=2,\n",
    "feature_names=df2[predictors].columns.values,\n",
    "proportion=True,\n",
    "class_names=target_names,\n",
    "filled=True, rounded=True,\n",
    "special_characters=True)\n",
    "#plot tree\n",
    "graph = graphviz.Source(dot_data)\n",
    "graph"
   ]
  },
  {
   "cell_type": "code",
   "execution_count": 28,
   "metadata": {},
   "outputs": [
    {
     "name": "stdout",
     "output_type": "stream",
     "text": [
      "Baseline Accuracy: 0.733\n",
      "Accuracy of Model: 0.761\n"
     ]
    }
   ],
   "source": [
    "print(\"Baseline Accuracy: {:.3}\".format(1-y_train.mean()))\n",
    "y_predict = clf2.predict(X_test[:,selected])\n",
    "print(\"Accuracy of Model: {:.3}\".format((y_predict == y_test).mean()))"
   ]
  },
  {
   "cell_type": "markdown",
   "metadata": {},
   "source": [
    "Unfortunately our accuracy has gone down a little bit, but not by much.\n",
    "If we look at the confusion matric, this model did better on predicting negative, but worse on predicting positive."
   ]
  },
  {
   "cell_type": "code",
   "execution_count": 29,
   "metadata": {},
   "outputs": [
    {
     "name": "stdout",
     "output_type": "stream",
     "text": [
      "       predicted \n",
      "actual   neg  pos\n",
      "neg     1028  117\n",
      "pos      259  166\n"
     ]
    }
   ],
   "source": [
    "print_conf_mtx(y_test, y_predict)"
   ]
  },
  {
   "cell_type": "code",
   "execution_count": 30,
   "metadata": {},
   "outputs": [
    {
     "data": {
      "text/plain": [
       "<matplotlib.legend.Legend at 0x264964ecf88>"
      ]
     },
     "execution_count": 30,
     "metadata": {},
     "output_type": "execute_result"
    },
    {
     "data": {
      "image/png": "[encoded data removed]",
      "text/plain": [
       "<Figure size 432x288 with 1 Axes>"
      ]
     },
     "metadata": {
      "needs_background": "light"
     },
     "output_type": "display_data"
    }
   ],
   "source": [
    "train_sizes, train_scores, test_scores = learning_curve(clf2, X[:,selected], y, \n",
    "cv=10, scoring='accuracy')\n",
    "train_scores_mean = np.mean(train_scores, axis=1)\n",
    "test_scores_mean = np.mean(test_scores, axis=1)\n",
    "\n",
    "# plot the learning curve\n",
    "plt.plot(train_sizes, train_scores_mean, label='train')\n",
    "plt.plot(train_sizes, test_scores_mean, label='test')\n",
    "plt.title('Learning curve, decision tree')\n",
    "plt.xlabel('training set size')\n",
    "plt.ylabel('accuracy')\n",
    "plt.legend()"
   ]
  },
  {
   "cell_type": "markdown",
   "metadata": {},
   "source": [
    "Again the tree model did better on the traning data then on the test data. The accuracy also appears to increase as more training data is provided."
   ]
  },
  {
   "cell_type": "markdown",
   "metadata": {},
   "source": [
    "# logistic regression"
   ]
  },
  {
   "cell_type": "markdown",
   "metadata": {},
   "source": [
    "# Model 3: logistic regression without forward selection"
   ]
  },
  {
   "cell_type": "markdown",
   "metadata": {},
   "source": [
    "Let's try another model and see if it does better then the two tree models above."
   ]
  },
  {
   "cell_type": "code",
   "execution_count": 31,
   "metadata": {},
   "outputs": [
    {
     "name": "stdout",
     "output_type": "stream",
     "text": [
      "Baseline accuracy: 0.73\n",
      "Logistic regression accuracy: 0.8\n"
     ]
    }
   ],
   "source": [
    "X = df2.drop(labels=['y_A1'], axis=1).values #predictors\n",
    "y = df2['y_A1'].values\n",
    "\n",
    "X_train, X_test, y_train, y_test = train_test_split(X, y, test_size=0.3, random_state=50)\n",
    "\n",
    "log1 = LogisticRegression()\n",
    "log1.fit(X_train, y_train)\n",
    "print(\"Baseline accuracy: {:.2f}\".format(1-y_train.mean()))\n",
    "print(\"Logistic regression accuracy: {:.2}\".format(log1.score(X_test, y_test)))"
   ]
  },
  {
   "cell_type": "markdown",
   "metadata": {},
   "source": [
    "Just from looking at the accuracy we can it looks like logistic regression is doing a much better job at predicting."
   ]
  },
  {
   "cell_type": "code",
   "execution_count": 32,
   "metadata": {},
   "outputs": [
    {
     "name": "stdout",
     "output_type": "stream",
     "text": [
      "       predicted \n",
      "actual   neg  pos\n",
      "neg     1024  121\n",
      "pos      191  234\n"
     ]
    }
   ],
   "source": [
    "y_pred = log1.predict(X_test)\n",
    "print_conf_mtx(y_test, y_pred)"
   ]
  },
  {
   "cell_type": "markdown",
   "metadata": {},
   "source": [
    "Looking at the confusion matrix we can see that we only got 1024 right for negative as opposed to model 2 which got 1028 right. This model has done much better on predicting positive than the first 2 models. Let's see what the learning curve looks like."
   ]
  },
  {
   "cell_type": "code",
   "execution_count": 33,
   "metadata": {},
   "outputs": [
    {
     "data": {
      "text/plain": [
       "<matplotlib.legend.Legend at 0x26496729448>"
      ]
     },
     "execution_count": 33,
     "metadata": {},
     "output_type": "execute_result"
    },
    {
     "data": {
      "image/png": "[encoded data removed]",
      "text/plain": [
       "<Figure size 432x288 with 1 Axes>"
      ]
     },
     "metadata": {
      "needs_background": "light"
     },
     "output_type": "display_data"
    }
   ],
   "source": [
    "train_sizes, train_scores, test_scores = learning_curve(log1, X, y, \n",
    "cv=10, scoring='accuracy')\n",
    "train_scores_mean = np.mean(train_scores, axis=1)\n",
    "test_scores_mean = np.mean(test_scores, axis=1)\n",
    "\n",
    "# plot the learning curve\n",
    "plt.plot(train_sizes, train_scores_mean, label='train')\n",
    "plt.plot(train_sizes, test_scores_mean, label='test')\n",
    "plt.title('Learning curve, logistic regression')\n",
    "plt.xlabel('training set size')\n",
    "plt.ylabel('accuracy')\n",
    "plt.legend()"
   ]
  },
  {
   "cell_type": "markdown",
   "metadata": {},
   "source": [
    "Unlike the first two models, model 3 is doing a better job on the test data than on the training data. There is a bit of variance. The accuracy is also increasing as more data is provided. Overall this is the best model for predicting y so far."
   ]
  },
  {
   "cell_type": "markdown",
   "metadata": {},
   "source": [
    "# Model 4: logistic regression with forward selection"
   ]
  },
  {
   "cell_type": "markdown",
   "metadata": {},
   "source": [
    "Next let's try implementing forward selection to see if we can do even better."
   ]
  },
  {
   "cell_type": "code",
   "execution_count": 34,
   "metadata": {},
   "outputs": [
    {
     "name": "stdout",
     "output_type": "stream",
     "text": [
      "Feature Count: 1; Accuracy: 0.73\n",
      "Feature Count: 2; Accuracy: 0.73\n",
      "Feature Count: 3; Accuracy: 0.73\n",
      "Feature Count: 4; Accuracy: 0.73\n",
      "Feature Count: 5; Accuracy: 0.75\n"
     ]
    },
    {
     "data": {
      "text/plain": [
       "LogisticRegression(C=1.0, class_weight=None, dual=False, fit_intercept=True,\n",
       "                   intercept_scaling=1, l1_ratio=None, max_iter=100,\n",
       "                   multi_class='warn', n_jobs=None, penalty='l2',\n",
       "                   random_state=None, solver='warn', tol=0.0001, verbose=0,\n",
       "                   warm_start=False)"
      ]
     },
     "execution_count": 34,
     "metadata": {},
     "output_type": "execute_result"
    }
   ],
   "source": [
    "X = df2.drop(labels=['y_A1'], axis=1).values #predictors\n",
    "y = df2['y_A1'].values\n",
    "X_train, X_test, y_train, y_test = train_test_split(X, y, test_size=0.3, random_state=50)\n",
    "log2 = LogisticRegression()\n",
    "selected = forward_selection(5, X_train, y_train, log2)\n",
    "log2.fit(X_train[:,selected], y_train)"
   ]
  },
  {
   "cell_type": "code",
   "execution_count": 35,
   "metadata": {},
   "outputs": [
    {
     "name": "stdout",
     "output_type": "stream",
     "text": [
      "5 best features: ['x0_A1' 'x1_A1' 'x2_medium' 'x3_A1' 'x2_large']\n"
     ]
    }
   ],
   "source": [
    "predictors = df2.columns[selected[0:5]].values\n",
    "print(\"5 best features:\", predictors)"
   ]
  },
  {
   "cell_type": "code",
   "execution_count": 36,
   "metadata": {},
   "outputs": [
    {
     "name": "stdout",
     "output_type": "stream",
     "text": [
      "Baseline accuracy: 0.733\n",
      "Logistic regression accuracy: 0.747\n"
     ]
    }
   ],
   "source": [
    "print(\"Baseline accuracy: {:.3f}\".format(1-y_train.mean()))\n",
    "print(\"Logistic regression accuracy: {:.3}\".format(log2.score(X_test[:,selected], y_test)))"
   ]
  },
  {
   "cell_type": "markdown",
   "metadata": {},
   "source": [
    "Using less features has decreased our accuracy by about 5 percent."
   ]
  },
  {
   "cell_type": "code",
   "execution_count": 37,
   "metadata": {},
   "outputs": [
    {
     "name": "stdout",
     "output_type": "stream",
     "text": [
      "       predicted \n",
      "actual   neg  pos\n",
      "neg     1101   44\n",
      "pos      353   72\n"
     ]
    }
   ],
   "source": [
    "y_predict7 = log2.predict(X_test[:,selected])\n",
    "print_conf_mtx(y_test, y_predict7)"
   ]
  },
  {
   "cell_type": "markdown",
   "metadata": {},
   "source": [
    "Looking at this confusion matrix has predicted the most negative out of any model, but the amount that were actually positive is also the highest it has been yet."
   ]
  },
  {
   "cell_type": "code",
   "execution_count": 38,
   "metadata": {},
   "outputs": [
    {
     "data": {
      "text/plain": [
       "<matplotlib.legend.Legend at 0x264967d7c48>"
      ]
     },
     "execution_count": 38,
     "metadata": {},
     "output_type": "execute_result"
    },
    {
     "data": {
      "image/png": "[encoded data removed]",
      "text/plain": [
       "<Figure size 432x288 with 1 Axes>"
      ]
     },
     "metadata": {
      "needs_background": "light"
     },
     "output_type": "display_data"
    }
   ],
   "source": [
    "train_sizes, train_scores, test_scores = learning_curve(log2, X[:,selected], y, \n",
    "cv=10, scoring='accuracy')\n",
    "train_scores_mean = np.mean(train_scores, axis=1)\n",
    "test_scores_mean = np.mean(test_scores, axis=1)\n",
    "\n",
    "# plot the learning curve\n",
    "plt.plot(train_sizes, train_scores_mean, label='train')\n",
    "plt.plot(train_sizes, test_scores_mean, label='test')\n",
    "plt.title('Learning curve, logistic regression')\n",
    "plt.xlabel('training set size')\n",
    "plt.ylabel('accuracy')\n",
    "plt.legend()"
   ]
  },
  {
   "cell_type": "markdown",
   "metadata": {},
   "source": [
    "This learning curve is a bit surprising as the training data is all over the place. The test prediction start out well, but slowly deacrease in accuracy as the training set increases."
   ]
  },
  {
   "cell_type": "markdown",
   "metadata": {},
   "source": [
    "## Conclusions"
   ]
  },
  {
   "cell_type": "markdown",
   "metadata": {},
   "source": [
    "I generated 4 different models and used two different learning algorithms.\n",
    "Overall model 3 did the best job at classifying y.\n",
    "Model 4 did not do as well as I thought it would. Maybe using feature selection was not a good idea.\n",
    "The learning curves for the two tree models did not come out well even though the accuracy was not bad."
   ]
  }
 ],
 "metadata": {
  "kernelspec": {
   "display_name": "Python 3",
   "language": "python",
   "name": "python3"
  },
  "language_info": {
   "codemirror_mode": {
    "name": "ipython",
    "version": 3
   },
   "file_extension": ".py",
   "mimetype": "text/x-python",
   "name": "python",
   "nbconvert_exporter": "python",
   "pygments_lexer": "ipython3",
   "version": "3.7.4"
  }
 },
 "nbformat": 4,
 "nbformat_minor": 4
}
